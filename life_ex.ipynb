{
 "cells": [
  {
   "cell_type": "code",
   "execution_count": 1,
   "metadata": {},
   "outputs": [],
   "source": [
    "import pandas as pd"
   ]
  },
  {
   "cell_type": "code",
   "execution_count": 2,
   "metadata": {},
   "outputs": [],
   "source": [
    "life_ex = pd.read_csv('data/API_SP.DYN.LE00.IN_DS2_en_csv_v2_5358385.csv', skiprows=4)\n",
    "health_ex = pd.read_csv('data/API_SH.XPD.CHEX.PC.CD_DS2_en_csv_v2_5359940.csv', skiprows=4)"
   ]
  },
  {
   "cell_type": "code",
   "execution_count": 3,
   "metadata": {},
   "outputs": [
    {
     "data": {
      "text/html": [
       "<div>\n",
       "<style scoped>\n",
       "    .dataframe tbody tr th:only-of-type {\n",
       "        vertical-align: middle;\n",
       "    }\n",
       "\n",
       "    .dataframe tbody tr th {\n",
       "        vertical-align: top;\n",
       "    }\n",
       "\n",
       "    .dataframe thead th {\n",
       "        text-align: right;\n",
       "    }\n",
       "</style>\n",
       "<table border=\"1\" class=\"dataframe\">\n",
       "  <thead>\n",
       "    <tr style=\"text-align: right;\">\n",
       "      <th></th>\n",
       "      <th>Country Name</th>\n",
       "      <th>Country Code</th>\n",
       "      <th>Indicator Name</th>\n",
       "      <th>Indicator Code</th>\n",
       "      <th>1960</th>\n",
       "      <th>1961</th>\n",
       "      <th>1962</th>\n",
       "      <th>1963</th>\n",
       "      <th>1964</th>\n",
       "      <th>1965</th>\n",
       "      <th>...</th>\n",
       "      <th>2013</th>\n",
       "      <th>2014</th>\n",
       "      <th>2015</th>\n",
       "      <th>2016</th>\n",
       "      <th>2017</th>\n",
       "      <th>2018</th>\n",
       "      <th>2019</th>\n",
       "      <th>2020</th>\n",
       "      <th>2021</th>\n",
       "      <th>Unnamed: 66</th>\n",
       "    </tr>\n",
       "  </thead>\n",
       "  <tbody>\n",
       "    <tr>\n",
       "      <th>0</th>\n",
       "      <td>Aruba</td>\n",
       "      <td>ABW</td>\n",
       "      <td>Life expectancy at birth, total (years)</td>\n",
       "      <td>SP.DYN.LE00.IN</td>\n",
       "      <td>64.152</td>\n",
       "      <td>64.537</td>\n",
       "      <td>64.752</td>\n",
       "      <td>65.132</td>\n",
       "      <td>65.294</td>\n",
       "      <td>65.502</td>\n",
       "      <td>...</td>\n",
       "      <td>75.636</td>\n",
       "      <td>75.601</td>\n",
       "      <td>75.683</td>\n",
       "      <td>75.617</td>\n",
       "      <td>75.903</td>\n",
       "      <td>76.072</td>\n",
       "      <td>76.248</td>\n",
       "      <td>75.723</td>\n",
       "      <td>NaN</td>\n",
       "      <td>NaN</td>\n",
       "    </tr>\n",
       "  </tbody>\n",
       "</table>\n",
       "<p>1 rows × 67 columns</p>\n",
       "</div>"
      ],
      "text/plain": [
       "  Country Name Country Code                           Indicator Name   \n",
       "0        Aruba          ABW  Life expectancy at birth, total (years)  \\\n",
       "\n",
       "   Indicator Code    1960    1961    1962    1963    1964    1965  ...   \n",
       "0  SP.DYN.LE00.IN  64.152  64.537  64.752  65.132  65.294  65.502  ...  \\\n",
       "\n",
       "     2013    2014    2015    2016    2017    2018    2019    2020  2021   \n",
       "0  75.636  75.601  75.683  75.617  75.903  76.072  76.248  75.723   NaN  \\\n",
       "\n",
       "   Unnamed: 66  \n",
       "0          NaN  \n",
       "\n",
       "[1 rows x 67 columns]"
      ]
     },
     "execution_count": 3,
     "metadata": {},
     "output_type": "execute_result"
    }
   ],
   "source": [
    "life_ex.head(1)"
   ]
  },
  {
   "cell_type": "code",
   "execution_count": 4,
   "metadata": {},
   "outputs": [
    {
     "data": {
      "text/html": [
       "<div>\n",
       "<style scoped>\n",
       "    .dataframe tbody tr th:only-of-type {\n",
       "        vertical-align: middle;\n",
       "    }\n",
       "\n",
       "    .dataframe tbody tr th {\n",
       "        vertical-align: top;\n",
       "    }\n",
       "\n",
       "    .dataframe thead th {\n",
       "        text-align: right;\n",
       "    }\n",
       "</style>\n",
       "<table border=\"1\" class=\"dataframe\">\n",
       "  <thead>\n",
       "    <tr style=\"text-align: right;\">\n",
       "      <th></th>\n",
       "      <th>Country Name</th>\n",
       "      <th>Country Code</th>\n",
       "      <th>Indicator Name</th>\n",
       "      <th>Indicator Code</th>\n",
       "      <th>1960</th>\n",
       "      <th>1961</th>\n",
       "      <th>1962</th>\n",
       "      <th>1963</th>\n",
       "      <th>1964</th>\n",
       "      <th>1965</th>\n",
       "      <th>...</th>\n",
       "      <th>2013</th>\n",
       "      <th>2014</th>\n",
       "      <th>2015</th>\n",
       "      <th>2016</th>\n",
       "      <th>2017</th>\n",
       "      <th>2018</th>\n",
       "      <th>2019</th>\n",
       "      <th>2020</th>\n",
       "      <th>2021</th>\n",
       "      <th>Unnamed: 66</th>\n",
       "    </tr>\n",
       "  </thead>\n",
       "  <tbody>\n",
       "    <tr>\n",
       "      <th>0</th>\n",
       "      <td>Aruba</td>\n",
       "      <td>ABW</td>\n",
       "      <td>Current health expenditure per capita (current...</td>\n",
       "      <td>SH.XPD.CHEX.PC.CD</td>\n",
       "      <td>NaN</td>\n",
       "      <td>NaN</td>\n",
       "      <td>NaN</td>\n",
       "      <td>NaN</td>\n",
       "      <td>NaN</td>\n",
       "      <td>NaN</td>\n",
       "      <td>...</td>\n",
       "      <td>NaN</td>\n",
       "      <td>NaN</td>\n",
       "      <td>NaN</td>\n",
       "      <td>NaN</td>\n",
       "      <td>NaN</td>\n",
       "      <td>NaN</td>\n",
       "      <td>NaN</td>\n",
       "      <td>NaN</td>\n",
       "      <td>NaN</td>\n",
       "      <td>NaN</td>\n",
       "    </tr>\n",
       "  </tbody>\n",
       "</table>\n",
       "<p>1 rows × 67 columns</p>\n",
       "</div>"
      ],
      "text/plain": [
       "  Country Name Country Code   \n",
       "0        Aruba          ABW  \\\n",
       "\n",
       "                                      Indicator Name     Indicator Code  1960   \n",
       "0  Current health expenditure per capita (current...  SH.XPD.CHEX.PC.CD   NaN  \\\n",
       "\n",
       "   1961  1962  1963  1964  1965  ...  2013  2014  2015  2016  2017  2018   \n",
       "0   NaN   NaN   NaN   NaN   NaN  ...   NaN   NaN   NaN   NaN   NaN   NaN  \\\n",
       "\n",
       "   2019  2020  2021  Unnamed: 66  \n",
       "0   NaN   NaN   NaN          NaN  \n",
       "\n",
       "[1 rows x 67 columns]"
      ]
     },
     "execution_count": 4,
     "metadata": {},
     "output_type": "execute_result"
    }
   ],
   "source": [
    "health_ex.head(1)"
   ]
  },
  {
   "cell_type": "code",
   "execution_count": 5,
   "metadata": {},
   "outputs": [
    {
     "data": {
      "text/html": [
       "<div>\n",
       "<style scoped>\n",
       "    .dataframe tbody tr th:only-of-type {\n",
       "        vertical-align: middle;\n",
       "    }\n",
       "\n",
       "    .dataframe tbody tr th {\n",
       "        vertical-align: top;\n",
       "    }\n",
       "\n",
       "    .dataframe thead th {\n",
       "        text-align: right;\n",
       "    }\n",
       "</style>\n",
       "<table border=\"1\" class=\"dataframe\">\n",
       "  <thead>\n",
       "    <tr style=\"text-align: right;\">\n",
       "      <th></th>\n",
       "      <th>Country Name</th>\n",
       "      <th>2019</th>\n",
       "    </tr>\n",
       "  </thead>\n",
       "  <tbody>\n",
       "    <tr>\n",
       "      <th>0</th>\n",
       "      <td>Aruba</td>\n",
       "      <td>76.248000</td>\n",
       "    </tr>\n",
       "    <tr>\n",
       "      <th>1</th>\n",
       "      <td>Africa Eastern and Southern</td>\n",
       "      <td>63.755674</td>\n",
       "    </tr>\n",
       "    <tr>\n",
       "      <th>2</th>\n",
       "      <td>Afghanistan</td>\n",
       "      <td>63.565000</td>\n",
       "    </tr>\n",
       "    <tr>\n",
       "      <th>3</th>\n",
       "      <td>Africa Western and Central</td>\n",
       "      <td>57.555796</td>\n",
       "    </tr>\n",
       "    <tr>\n",
       "      <th>4</th>\n",
       "      <td>Angola</td>\n",
       "      <td>62.448000</td>\n",
       "    </tr>\n",
       "    <tr>\n",
       "      <th>...</th>\n",
       "      <td>...</td>\n",
       "      <td>...</td>\n",
       "    </tr>\n",
       "    <tr>\n",
       "      <th>261</th>\n",
       "      <td>Kosovo</td>\n",
       "      <td>79.022000</td>\n",
       "    </tr>\n",
       "    <tr>\n",
       "      <th>262</th>\n",
       "      <td>Yemen, Rep.</td>\n",
       "      <td>65.092000</td>\n",
       "    </tr>\n",
       "    <tr>\n",
       "      <th>263</th>\n",
       "      <td>South Africa</td>\n",
       "      <td>66.175000</td>\n",
       "    </tr>\n",
       "    <tr>\n",
       "      <th>264</th>\n",
       "      <td>Zambia</td>\n",
       "      <td>62.793000</td>\n",
       "    </tr>\n",
       "    <tr>\n",
       "      <th>265</th>\n",
       "      <td>Zimbabwe</td>\n",
       "      <td>61.292000</td>\n",
       "    </tr>\n",
       "  </tbody>\n",
       "</table>\n",
       "<p>266 rows × 2 columns</p>\n",
       "</div>"
      ],
      "text/plain": [
       "                    Country Name       2019\n",
       "0                          Aruba  76.248000\n",
       "1    Africa Eastern and Southern  63.755674\n",
       "2                    Afghanistan  63.565000\n",
       "3     Africa Western and Central  57.555796\n",
       "4                         Angola  62.448000\n",
       "..                           ...        ...\n",
       "261                       Kosovo  79.022000\n",
       "262                  Yemen, Rep.  65.092000\n",
       "263                 South Africa  66.175000\n",
       "264                       Zambia  62.793000\n",
       "265                     Zimbabwe  61.292000\n",
       "\n",
       "[266 rows x 2 columns]"
      ]
     },
     "execution_count": 5,
     "metadata": {},
     "output_type": "execute_result"
    }
   ],
   "source": [
    "# Only keep columns for life_ex: Country Name, 2019\n",
    "life_ex = life_ex[['Country Name', '2019']]\n",
    "life_ex"
   ]
  },
  {
   "cell_type": "code",
   "execution_count": 6,
   "metadata": {},
   "outputs": [
    {
     "data": {
      "text/html": [
       "<div>\n",
       "<style scoped>\n",
       "    .dataframe tbody tr th:only-of-type {\n",
       "        vertical-align: middle;\n",
       "    }\n",
       "\n",
       "    .dataframe tbody tr th {\n",
       "        vertical-align: top;\n",
       "    }\n",
       "\n",
       "    .dataframe thead th {\n",
       "        text-align: right;\n",
       "    }\n",
       "</style>\n",
       "<table border=\"1\" class=\"dataframe\">\n",
       "  <thead>\n",
       "    <tr style=\"text-align: right;\">\n",
       "      <th></th>\n",
       "      <th>Country Name</th>\n",
       "      <th>2019</th>\n",
       "    </tr>\n",
       "  </thead>\n",
       "  <tbody>\n",
       "    <tr>\n",
       "      <th>0</th>\n",
       "      <td>Aruba</td>\n",
       "      <td>NaN</td>\n",
       "    </tr>\n",
       "    <tr>\n",
       "      <th>1</th>\n",
       "      <td>Africa Eastern and Southern</td>\n",
       "      <td>91.078351</td>\n",
       "    </tr>\n",
       "    <tr>\n",
       "      <th>2</th>\n",
       "      <td>Afghanistan</td>\n",
       "      <td>65.806030</td>\n",
       "    </tr>\n",
       "    <tr>\n",
       "      <th>3</th>\n",
       "      <td>Africa Western and Central</td>\n",
       "      <td>61.362172</td>\n",
       "    </tr>\n",
       "    <tr>\n",
       "      <th>4</th>\n",
       "      <td>Angola</td>\n",
       "      <td>71.326004</td>\n",
       "    </tr>\n",
       "    <tr>\n",
       "      <th>...</th>\n",
       "      <td>...</td>\n",
       "      <td>...</td>\n",
       "    </tr>\n",
       "    <tr>\n",
       "      <th>261</th>\n",
       "      <td>Kosovo</td>\n",
       "      <td>NaN</td>\n",
       "    </tr>\n",
       "    <tr>\n",
       "      <th>262</th>\n",
       "      <td>Yemen, Rep.</td>\n",
       "      <td>NaN</td>\n",
       "    </tr>\n",
       "    <tr>\n",
       "      <th>263</th>\n",
       "      <td>South Africa</td>\n",
       "      <td>546.688416</td>\n",
       "    </tr>\n",
       "    <tr>\n",
       "      <th>264</th>\n",
       "      <td>Zambia</td>\n",
       "      <td>69.324379</td>\n",
       "    </tr>\n",
       "    <tr>\n",
       "      <th>265</th>\n",
       "      <td>Zimbabwe</td>\n",
       "      <td>103.028272</td>\n",
       "    </tr>\n",
       "  </tbody>\n",
       "</table>\n",
       "<p>266 rows × 2 columns</p>\n",
       "</div>"
      ],
      "text/plain": [
       "                    Country Name        2019\n",
       "0                          Aruba         NaN\n",
       "1    Africa Eastern and Southern   91.078351\n",
       "2                    Afghanistan   65.806030\n",
       "3     Africa Western and Central   61.362172\n",
       "4                         Angola   71.326004\n",
       "..                           ...         ...\n",
       "261                       Kosovo         NaN\n",
       "262                  Yemen, Rep.         NaN\n",
       "263                 South Africa  546.688416\n",
       "264                       Zambia   69.324379\n",
       "265                     Zimbabwe  103.028272\n",
       "\n",
       "[266 rows x 2 columns]"
      ]
     },
     "execution_count": 6,
     "metadata": {},
     "output_type": "execute_result"
    }
   ],
   "source": [
    "# Only keep columns for life_ex: Country Name, 2019\n",
    "health_ex = health_ex[['Country Name', '2019']]\n",
    "health_ex"
   ]
  },
  {
   "cell_type": "code",
   "execution_count": 7,
   "metadata": {},
   "outputs": [
    {
     "data": {
      "text/html": [
       "<div>\n",
       "<style scoped>\n",
       "    .dataframe tbody tr th:only-of-type {\n",
       "        vertical-align: middle;\n",
       "    }\n",
       "\n",
       "    .dataframe tbody tr th {\n",
       "        vertical-align: top;\n",
       "    }\n",
       "\n",
       "    .dataframe thead th {\n",
       "        text-align: right;\n",
       "    }\n",
       "</style>\n",
       "<table border=\"1\" class=\"dataframe\">\n",
       "  <thead>\n",
       "    <tr style=\"text-align: right;\">\n",
       "      <th></th>\n",
       "      <th>Country Name</th>\n",
       "      <th>2019</th>\n",
       "      <th>Life Expectancy at Birth (total years)</th>\n",
       "    </tr>\n",
       "  </thead>\n",
       "  <tbody>\n",
       "    <tr>\n",
       "      <th>0</th>\n",
       "      <td>Aruba</td>\n",
       "      <td>NaN</td>\n",
       "      <td>76.248000</td>\n",
       "    </tr>\n",
       "    <tr>\n",
       "      <th>1</th>\n",
       "      <td>Africa Eastern and Southern</td>\n",
       "      <td>91.078351</td>\n",
       "      <td>63.755674</td>\n",
       "    </tr>\n",
       "    <tr>\n",
       "      <th>2</th>\n",
       "      <td>Afghanistan</td>\n",
       "      <td>65.806030</td>\n",
       "      <td>63.565000</td>\n",
       "    </tr>\n",
       "    <tr>\n",
       "      <th>3</th>\n",
       "      <td>Africa Western and Central</td>\n",
       "      <td>61.362172</td>\n",
       "      <td>57.555796</td>\n",
       "    </tr>\n",
       "    <tr>\n",
       "      <th>4</th>\n",
       "      <td>Angola</td>\n",
       "      <td>71.326004</td>\n",
       "      <td>62.448000</td>\n",
       "    </tr>\n",
       "    <tr>\n",
       "      <th>...</th>\n",
       "      <td>...</td>\n",
       "      <td>...</td>\n",
       "      <td>...</td>\n",
       "    </tr>\n",
       "    <tr>\n",
       "      <th>261</th>\n",
       "      <td>Kosovo</td>\n",
       "      <td>NaN</td>\n",
       "      <td>79.022000</td>\n",
       "    </tr>\n",
       "    <tr>\n",
       "      <th>262</th>\n",
       "      <td>Yemen, Rep.</td>\n",
       "      <td>NaN</td>\n",
       "      <td>65.092000</td>\n",
       "    </tr>\n",
       "    <tr>\n",
       "      <th>263</th>\n",
       "      <td>South Africa</td>\n",
       "      <td>546.688416</td>\n",
       "      <td>66.175000</td>\n",
       "    </tr>\n",
       "    <tr>\n",
       "      <th>264</th>\n",
       "      <td>Zambia</td>\n",
       "      <td>69.324379</td>\n",
       "      <td>62.793000</td>\n",
       "    </tr>\n",
       "    <tr>\n",
       "      <th>265</th>\n",
       "      <td>Zimbabwe</td>\n",
       "      <td>103.028272</td>\n",
       "      <td>61.292000</td>\n",
       "    </tr>\n",
       "  </tbody>\n",
       "</table>\n",
       "<p>266 rows × 3 columns</p>\n",
       "</div>"
      ],
      "text/plain": [
       "                    Country Name        2019   \n",
       "0                          Aruba         NaN  \\\n",
       "1    Africa Eastern and Southern   91.078351   \n",
       "2                    Afghanistan   65.806030   \n",
       "3     Africa Western and Central   61.362172   \n",
       "4                         Angola   71.326004   \n",
       "..                           ...         ...   \n",
       "261                       Kosovo         NaN   \n",
       "262                  Yemen, Rep.         NaN   \n",
       "263                 South Africa  546.688416   \n",
       "264                       Zambia   69.324379   \n",
       "265                     Zimbabwe  103.028272   \n",
       "\n",
       "     Life Expectancy at Birth (total years)  \n",
       "0                                 76.248000  \n",
       "1                                 63.755674  \n",
       "2                                 63.565000  \n",
       "3                                 57.555796  \n",
       "4                                 62.448000  \n",
       "..                                      ...  \n",
       "261                               79.022000  \n",
       "262                               65.092000  \n",
       "263                               66.175000  \n",
       "264                               62.793000  \n",
       "265                               61.292000  \n",
       "\n",
       "[266 rows x 3 columns]"
      ]
     },
     "execution_count": 7,
     "metadata": {},
     "output_type": "execute_result"
    }
   ],
   "source": [
    "# add new column in health_ex with life expectancy\n",
    "health_ex['Life Expectancy at Birth (total years)'] = life_ex['2019']\n",
    "health_ex"
   ]
  },
  {
   "cell_type": "code",
   "execution_count": 8,
   "metadata": {},
   "outputs": [
    {
     "data": {
      "text/html": [
       "<div>\n",
       "<style scoped>\n",
       "    .dataframe tbody tr th:only-of-type {\n",
       "        vertical-align: middle;\n",
       "    }\n",
       "\n",
       "    .dataframe tbody tr th {\n",
       "        vertical-align: top;\n",
       "    }\n",
       "\n",
       "    .dataframe thead th {\n",
       "        text-align: right;\n",
       "    }\n",
       "</style>\n",
       "<table border=\"1\" class=\"dataframe\">\n",
       "  <thead>\n",
       "    <tr style=\"text-align: right;\">\n",
       "      <th></th>\n",
       "      <th>Country Name</th>\n",
       "      <th>Health Expenditure per Capita (current US$)</th>\n",
       "      <th>Life Expectancy at Birth (total years)</th>\n",
       "    </tr>\n",
       "  </thead>\n",
       "  <tbody>\n",
       "    <tr>\n",
       "      <th>0</th>\n",
       "      <td>Aruba</td>\n",
       "      <td>NaN</td>\n",
       "      <td>76.248000</td>\n",
       "    </tr>\n",
       "    <tr>\n",
       "      <th>1</th>\n",
       "      <td>Africa Eastern and Southern</td>\n",
       "      <td>91.078351</td>\n",
       "      <td>63.755674</td>\n",
       "    </tr>\n",
       "    <tr>\n",
       "      <th>2</th>\n",
       "      <td>Afghanistan</td>\n",
       "      <td>65.806030</td>\n",
       "      <td>63.565000</td>\n",
       "    </tr>\n",
       "    <tr>\n",
       "      <th>3</th>\n",
       "      <td>Africa Western and Central</td>\n",
       "      <td>61.362172</td>\n",
       "      <td>57.555796</td>\n",
       "    </tr>\n",
       "    <tr>\n",
       "      <th>4</th>\n",
       "      <td>Angola</td>\n",
       "      <td>71.326004</td>\n",
       "      <td>62.448000</td>\n",
       "    </tr>\n",
       "    <tr>\n",
       "      <th>...</th>\n",
       "      <td>...</td>\n",
       "      <td>...</td>\n",
       "      <td>...</td>\n",
       "    </tr>\n",
       "    <tr>\n",
       "      <th>261</th>\n",
       "      <td>Kosovo</td>\n",
       "      <td>NaN</td>\n",
       "      <td>79.022000</td>\n",
       "    </tr>\n",
       "    <tr>\n",
       "      <th>262</th>\n",
       "      <td>Yemen, Rep.</td>\n",
       "      <td>NaN</td>\n",
       "      <td>65.092000</td>\n",
       "    </tr>\n",
       "    <tr>\n",
       "      <th>263</th>\n",
       "      <td>South Africa</td>\n",
       "      <td>546.688416</td>\n",
       "      <td>66.175000</td>\n",
       "    </tr>\n",
       "    <tr>\n",
       "      <th>264</th>\n",
       "      <td>Zambia</td>\n",
       "      <td>69.324379</td>\n",
       "      <td>62.793000</td>\n",
       "    </tr>\n",
       "    <tr>\n",
       "      <th>265</th>\n",
       "      <td>Zimbabwe</td>\n",
       "      <td>103.028272</td>\n",
       "      <td>61.292000</td>\n",
       "    </tr>\n",
       "  </tbody>\n",
       "</table>\n",
       "<p>266 rows × 3 columns</p>\n",
       "</div>"
      ],
      "text/plain": [
       "                    Country Name  Health Expenditure per Capita (current US$)   \n",
       "0                          Aruba                                          NaN  \\\n",
       "1    Africa Eastern and Southern                                    91.078351   \n",
       "2                    Afghanistan                                    65.806030   \n",
       "3     Africa Western and Central                                    61.362172   \n",
       "4                         Angola                                    71.326004   \n",
       "..                           ...                                          ...   \n",
       "261                       Kosovo                                          NaN   \n",
       "262                  Yemen, Rep.                                          NaN   \n",
       "263                 South Africa                                   546.688416   \n",
       "264                       Zambia                                    69.324379   \n",
       "265                     Zimbabwe                                   103.028272   \n",
       "\n",
       "     Life Expectancy at Birth (total years)  \n",
       "0                                 76.248000  \n",
       "1                                 63.755674  \n",
       "2                                 63.565000  \n",
       "3                                 57.555796  \n",
       "4                                 62.448000  \n",
       "..                                      ...  \n",
       "261                               79.022000  \n",
       "262                               65.092000  \n",
       "263                               66.175000  \n",
       "264                               62.793000  \n",
       "265                               61.292000  \n",
       "\n",
       "[266 rows x 3 columns]"
      ]
     },
     "execution_count": 8,
     "metadata": {},
     "output_type": "execute_result"
    }
   ],
   "source": [
    "# rename 2019 column to Health Expenditure per Capita (current US$)\n",
    "health_ex.rename(columns={'2019': 'Health Expenditure per Capita (current US$)'}, inplace=True)\n",
    "health_ex"
   ]
  },
  {
   "cell_type": "code",
   "execution_count": 9,
   "metadata": {},
   "outputs": [
    {
     "data": {
      "text/html": [
       "<div>\n",
       "<style scoped>\n",
       "    .dataframe tbody tr th:only-of-type {\n",
       "        vertical-align: middle;\n",
       "    }\n",
       "\n",
       "    .dataframe tbody tr th {\n",
       "        vertical-align: top;\n",
       "    }\n",
       "\n",
       "    .dataframe thead th {\n",
       "        text-align: right;\n",
       "    }\n",
       "</style>\n",
       "<table border=\"1\" class=\"dataframe\">\n",
       "  <thead>\n",
       "    <tr style=\"text-align: right;\">\n",
       "      <th></th>\n",
       "      <th>Country Name</th>\n",
       "      <th>Health Expenditure per Capita (current US$)</th>\n",
       "      <th>Life Expectancy at Birth (total years)</th>\n",
       "    </tr>\n",
       "  </thead>\n",
       "  <tbody>\n",
       "    <tr>\n",
       "      <th>0</th>\n",
       "      <td>United States</td>\n",
       "      <td>10921.012695</td>\n",
       "      <td>78.787805</td>\n",
       "    </tr>\n",
       "    <tr>\n",
       "      <th>1</th>\n",
       "      <td>North America</td>\n",
       "      <td>10317.570019</td>\n",
       "      <td>79.123365</td>\n",
       "    </tr>\n",
       "    <tr>\n",
       "      <th>2</th>\n",
       "      <td>Switzerland</td>\n",
       "      <td>9666.337891</td>\n",
       "      <td>83.904878</td>\n",
       "    </tr>\n",
       "    <tr>\n",
       "      <th>3</th>\n",
       "      <td>Norway</td>\n",
       "      <td>8007.397949</td>\n",
       "      <td>82.958537</td>\n",
       "    </tr>\n",
       "    <tr>\n",
       "      <th>4</th>\n",
       "      <td>Iceland</td>\n",
       "      <td>6274.959473</td>\n",
       "      <td>83.163415</td>\n",
       "    </tr>\n",
       "    <tr>\n",
       "      <th>...</th>\n",
       "      <td>...</td>\n",
       "      <td>...</td>\n",
       "      <td>...</td>\n",
       "    </tr>\n",
       "    <tr>\n",
       "      <th>221</th>\n",
       "      <td>Eritrea</td>\n",
       "      <td>25.267935</td>\n",
       "      <td>67.300000</td>\n",
       "    </tr>\n",
       "    <tr>\n",
       "      <th>222</th>\n",
       "      <td>South Sudan</td>\n",
       "      <td>22.638187</td>\n",
       "      <td>55.912000</td>\n",
       "    </tr>\n",
       "    <tr>\n",
       "      <th>223</th>\n",
       "      <td>Congo, Dem. Rep.</td>\n",
       "      <td>20.570732</td>\n",
       "      <td>60.276000</td>\n",
       "    </tr>\n",
       "    <tr>\n",
       "      <th>224</th>\n",
       "      <td>Burundi</td>\n",
       "      <td>20.567541</td>\n",
       "      <td>62.351000</td>\n",
       "    </tr>\n",
       "    <tr>\n",
       "      <th>225</th>\n",
       "      <td>Madagascar</td>\n",
       "      <td>19.849976</td>\n",
       "      <td>65.882000</td>\n",
       "    </tr>\n",
       "  </tbody>\n",
       "</table>\n",
       "<p>226 rows × 3 columns</p>\n",
       "</div>"
      ],
      "text/plain": [
       "         Country Name  Health Expenditure per Capita (current US$)   \n",
       "0       United States                                 10921.012695  \\\n",
       "1       North America                                 10317.570019   \n",
       "2         Switzerland                                  9666.337891   \n",
       "3              Norway                                  8007.397949   \n",
       "4             Iceland                                  6274.959473   \n",
       "..                ...                                          ...   \n",
       "221           Eritrea                                    25.267935   \n",
       "222       South Sudan                                    22.638187   \n",
       "223  Congo, Dem. Rep.                                    20.570732   \n",
       "224           Burundi                                    20.567541   \n",
       "225        Madagascar                                    19.849976   \n",
       "\n",
       "     Life Expectancy at Birth (total years)  \n",
       "0                                 78.787805  \n",
       "1                                 79.123365  \n",
       "2                                 83.904878  \n",
       "3                                 82.958537  \n",
       "4                                 83.163415  \n",
       "..                                      ...  \n",
       "221                               67.300000  \n",
       "222                               55.912000  \n",
       "223                               60.276000  \n",
       "224                               62.351000  \n",
       "225                               65.882000  \n",
       "\n",
       "[226 rows x 3 columns]"
      ]
     },
     "execution_count": 9,
     "metadata": {},
     "output_type": "execute_result"
    }
   ],
   "source": [
    "# Drop nans\n",
    "health_ex.dropna(inplace=True)\n",
    "\n",
    "\n",
    "\n",
    "# sort by Health Expenditure per Capita (current US$)\n",
    "health_ex.sort_values(by='Health Expenditure per Capita (current US$)', ascending = False, inplace=True)\n",
    "\n",
    "# reset index\n",
    "health_ex.reset_index(drop=True, inplace=True)\n",
    "\n",
    "health_ex"
   ]
  },
  {
   "cell_type": "code",
   "execution_count": 13,
   "metadata": {},
   "outputs": [
    {
     "data": {
      "image/png": "[encoded data removed]",
      "text/plain": [
       "<Figure size 640x480 with 1 Axes>"
      ]
     },
     "metadata": {},
     "output_type": "display_data"
    }
   ],
   "source": [
    "import pandas as pd\n",
    "import matplotlib.pyplot as plt\n",
    "import seaborn as sns\n",
    "import numpy as np\n",
    "import os\n",
    "from sklearn.linear_model import LinearRegression\n",
    "sns.set_theme()\n",
    "\n",
    "\n",
    "# conditional plot for the year 2020\n",
    "df_2020 = health_ex\n",
    "plt.scatter(data=df_2020, x='Health Expenditure per Capita (current US$)', y='Life Expectancy at Birth (total years)', c='red', marker='o', s=10, alpha=0.5, label='2019')\n",
    "# fit a linear model between log GDP and life expectancy\n",
    "reg = LinearRegression().fit(np.log(df_2020['Health Expenditure per Capita (current US$)']).values.reshape(-1, 1), df_2020['Life Expectancy at Birth (total years)'].values.reshape(-1, 1))\n",
    "# plot the linear model\n",
    "x = np.linspace(start=4, stop=12, num=100)\n",
    "y = reg.coef_[0][0] * x + reg.intercept_[0]\n",
    "# Use a red color to symbolize health expenditure\n",
    "plt.plot(np.exp(x), y, alpha=0.5, c='red')\n",
    "\n",
    "# annotate Japan with country name, make point bigger\n",
    "\n",
    "for row in df_2020.index:\n",
    "    if df_2020.loc[row, 'Country Name'] in ['Japan', 'Germany', 'Italy', 'United States']:\n",
    "        plt.scatter(data=df_2020.loc[row, :], x='Health Expenditure per Capita (current US$)', y='Life Expectancy at Birth (total years)', c='black', marker='o', s=10, alpha=1)\n",
    "        plt.text(x=df_2020.loc[row, 'Health Expenditure per Capita (current US$)'] + 0.2, y=df_2020.loc[row, 'Life Expectancy at Birth (total years)'] + 0.3 - 1.6*(df_2020.loc[row, 'Country Name'] == 'Germany'), s=df_2020.loc[row, 'Country Name'], fontsize=8)\n",
    "\n",
    "# plt.legend(title='Year')  \n",
    "plt.title('Life Expectancy vs Health Expenditure per Capita for Countries in 2019')\n",
    "# plt.xscale('log')\n",
    "# make y axis go from 0 to 100\n",
    "plt.ylim(40, 90)\n",
    "plt.xlim(0, 12000)\n",
    "plt.xlabel('Health Expenditure per Capita (current US$)')\n",
    "plt.ylabel('Life expectancy at Birth (years)')\n",
    "plt.show()"
   ]
  },
  {
   "cell_type": "code",
   "execution_count": 75,
   "metadata": {},
   "outputs": [],
   "source": [
    "physical_activity = pd.read_csv('data/physical_ac.csv')\n",
    "# only include data for countries USA, Japan, Germany, Italy\n",
    "\n",
    "physical_activity = physical_activity[physical_activity['Unnamed: 0'].isin(['United States of America', 'Japan', 'Germany', 'Italy'])]"
   ]
  },
  {
   "cell_type": "code",
   "execution_count": 76,
   "metadata": {},
   "outputs": [
    {
     "data": {
      "text/html": [
       "<div>\n",
       "<style scoped>\n",
       "    .dataframe tbody tr th:only-of-type {\n",
       "        vertical-align: middle;\n",
       "    }\n",
       "\n",
       "    .dataframe tbody tr th {\n",
       "        vertical-align: top;\n",
       "    }\n",
       "\n",
       "    .dataframe thead th {\n",
       "        text-align: right;\n",
       "    }\n",
       "</style>\n",
       "<table border=\"1\" class=\"dataframe\">\n",
       "  <thead>\n",
       "    <tr style=\"text-align: right;\">\n",
       "      <th></th>\n",
       "      <th>Unnamed: 0</th>\n",
       "      <th>Unnamed: 1</th>\n",
       "      <th>Unnamed: 2</th>\n",
       "      <th>Prevalence of insufficient physical activity among adults aged 18+ years (age-standardized estimate) (%)</th>\n",
       "      <th>Prevalence of insufficient physical activity among adults aged 18+ years (age-standardized estimate) (%).1</th>\n",
       "      <th>Prevalence of insufficient physical activity among adults aged 18+ years (age-standardized estimate) (%).2</th>\n",
       "      <th>Prevalence of insufficient physical activity among adults aged 18+ years (crude estimate) (%)</th>\n",
       "      <th>Prevalence of insufficient physical activity among adults aged 18+ years (crude estimate) (%).1</th>\n",
       "      <th>Prevalence of insufficient physical activity among adults aged 18+ years (crude estimate) (%).2</th>\n",
       "    </tr>\n",
       "  </thead>\n",
       "  <tbody>\n",
       "    <tr>\n",
       "      <th>67</th>\n",
       "      <td>Germany</td>\n",
       "      <td>2016</td>\n",
       "      <td>18+  years</td>\n",
       "      <td>42.2 [35.5-49.2]</td>\n",
       "      <td>40.2 [34.0-46.7]</td>\n",
       "      <td>44.1 [36.9-51.6]</td>\n",
       "      <td>45.8 [39.0-52.8]</td>\n",
       "      <td>43.5 [37.2-50.1]</td>\n",
       "      <td>48.0 [40.7-55.4]</td>\n",
       "    </tr>\n",
       "    <tr>\n",
       "      <th>85</th>\n",
       "      <td>Italy</td>\n",
       "      <td>2016</td>\n",
       "      <td>18+  years</td>\n",
       "      <td>41.4 [34.3-48.8]</td>\n",
       "      <td>36.2 [29.9-42.9]</td>\n",
       "      <td>46.2 [38.4-54.2]</td>\n",
       "      <td>44.8 [37.6-52.2]</td>\n",
       "      <td>39.3 [32.8-46.2]</td>\n",
       "      <td>49.9 [42.1-57.8]</td>\n",
       "    </tr>\n",
       "    <tr>\n",
       "      <th>87</th>\n",
       "      <td>Japan</td>\n",
       "      <td>2016</td>\n",
       "      <td>18+  years</td>\n",
       "      <td>35.5 [20.5-53.8]</td>\n",
       "      <td>33.8 [20.1-50.9]</td>\n",
       "      <td>37.0 [21.0-56.5]</td>\n",
       "      <td>38.1 [22.5-56.5]</td>\n",
       "      <td>36.2 [21.8-53.5]</td>\n",
       "      <td>39.8 [23.1-59.2]</td>\n",
       "    </tr>\n",
       "    <tr>\n",
       "      <th>186</th>\n",
       "      <td>United States of America</td>\n",
       "      <td>2016</td>\n",
       "      <td>18+  years</td>\n",
       "      <td>40.0 [33.0-47.3]</td>\n",
       "      <td>31.7 [25.8-38.3]</td>\n",
       "      <td>48.0 [40.1-56.1]</td>\n",
       "      <td>42.5 [35.4-49.9]</td>\n",
       "      <td>33.7 [27.6-40.5]</td>\n",
       "      <td>51.0 [43.0-59.0]</td>\n",
       "    </tr>\n",
       "  </tbody>\n",
       "</table>\n",
       "</div>"
      ],
      "text/plain": [
       "                   Unnamed: 0 Unnamed: 1  Unnamed: 2  \\\n",
       "67                    Germany       2016  18+  years   \n",
       "85                      Italy       2016  18+  years   \n",
       "87                      Japan       2016  18+  years   \n",
       "186  United States of America       2016  18+  years   \n",
       "\n",
       "    Prevalence of insufficient physical activity among adults aged 18+ years (age-standardized estimate) (%)  \\\n",
       "67                                    42.2 [35.5-49.2]                                                         \n",
       "85                                    41.4 [34.3-48.8]                                                         \n",
       "87                                    35.5 [20.5-53.8]                                                         \n",
       "186                                   40.0 [33.0-47.3]                                                         \n",
       "\n",
       "    Prevalence of insufficient physical activity among adults aged 18+ years (age-standardized estimate) (%).1  \\\n",
       "67                                    40.2 [34.0-46.7]                                                           \n",
       "85                                    36.2 [29.9-42.9]                                                           \n",
       "87                                    33.8 [20.1-50.9]                                                           \n",
       "186                                   31.7 [25.8-38.3]                                                           \n",
       "\n",
       "    Prevalence of insufficient physical activity among adults aged 18+ years (age-standardized estimate) (%).2  \\\n",
       "67                                    44.1 [36.9-51.6]                                                           \n",
       "85                                    46.2 [38.4-54.2]                                                           \n",
       "87                                    37.0 [21.0-56.5]                                                           \n",
       "186                                   48.0 [40.1-56.1]                                                           \n",
       "\n",
       "    Prevalence of insufficient physical activity among adults aged 18+ years (crude estimate) (%)  \\\n",
       "67                                    45.8 [39.0-52.8]                                              \n",
       "85                                    44.8 [37.6-52.2]                                              \n",
       "87                                    38.1 [22.5-56.5]                                              \n",
       "186                                   42.5 [35.4-49.9]                                              \n",
       "\n",
       "    Prevalence of insufficient physical activity among adults aged 18+ years (crude estimate) (%).1  \\\n",
       "67                                    43.5 [37.2-50.1]                                                \n",
       "85                                    39.3 [32.8-46.2]                                                \n",
       "87                                    36.2 [21.8-53.5]                                                \n",
       "186                                   33.7 [27.6-40.5]                                                \n",
       "\n",
       "    Prevalence of insufficient physical activity among adults aged 18+ years (crude estimate) (%).2  \n",
       "67                                    48.0 [40.7-55.4]                                               \n",
       "85                                    49.9 [42.1-57.8]                                               \n",
       "87                                    39.8 [23.1-59.2]                                               \n",
       "186                                   51.0 [43.0-59.0]                                               "
      ]
     },
     "execution_count": 76,
     "metadata": {},
     "output_type": "execute_result"
    }
   ],
   "source": [
    "physical_activity"
   ]
  },
  {
   "cell_type": "code",
   "execution_count": 77,
   "metadata": {},
   "outputs": [
    {
     "data": {
      "text/html": [
       "<div>\n",
       "<style scoped>\n",
       "    .dataframe tbody tr th:only-of-type {\n",
       "        vertical-align: middle;\n",
       "    }\n",
       "\n",
       "    .dataframe tbody tr th {\n",
       "        vertical-align: top;\n",
       "    }\n",
       "\n",
       "    .dataframe thead th {\n",
       "        text-align: right;\n",
       "    }\n",
       "</style>\n",
       "<table border=\"1\" class=\"dataframe\">\n",
       "  <thead>\n",
       "    <tr style=\"text-align: right;\">\n",
       "      <th></th>\n",
       "      <th>Unnamed: 0</th>\n",
       "      <th>Prevalence of insufficient physical activity among adults aged 18+ years (age-standardized estimate) (%)</th>\n",
       "    </tr>\n",
       "  </thead>\n",
       "  <tbody>\n",
       "    <tr>\n",
       "      <th>67</th>\n",
       "      <td>Germany</td>\n",
       "      <td>42.2 [35.5-49.2]</td>\n",
       "    </tr>\n",
       "    <tr>\n",
       "      <th>85</th>\n",
       "      <td>Italy</td>\n",
       "      <td>41.4 [34.3-48.8]</td>\n",
       "    </tr>\n",
       "    <tr>\n",
       "      <th>87</th>\n",
       "      <td>Japan</td>\n",
       "      <td>35.5 [20.5-53.8]</td>\n",
       "    </tr>\n",
       "    <tr>\n",
       "      <th>186</th>\n",
       "      <td>United States of America</td>\n",
       "      <td>40.0 [33.0-47.3]</td>\n",
       "    </tr>\n",
       "  </tbody>\n",
       "</table>\n",
       "</div>"
      ],
      "text/plain": [
       "                   Unnamed: 0  \\\n",
       "67                    Germany   \n",
       "85                      Italy   \n",
       "87                      Japan   \n",
       "186  United States of America   \n",
       "\n",
       "    Prevalence of insufficient physical activity among adults aged 18+ years (age-standardized estimate) (%)  \n",
       "67                                    42.2 [35.5-49.2]                                                        \n",
       "85                                    41.4 [34.3-48.8]                                                        \n",
       "87                                    35.5 [20.5-53.8]                                                        \n",
       "186                                   40.0 [33.0-47.3]                                                        "
      ]
     },
     "execution_count": 77,
     "metadata": {},
     "output_type": "execute_result"
    }
   ],
   "source": [
    "# Only include columns Unnamed: 0 and Prevalence of insufficient physical activity among adults aged 18+ years (age-standardized estimate) (%)\n",
    "physical_activity = physical_activity[['Unnamed: 0', 'Prevalence of insufficient physical activity among adults aged 18+ years (age-standardized estimate) (%)']]\n",
    "physical_activity\n"
   ]
  },
  {
   "cell_type": "code",
   "execution_count": 78,
   "metadata": {},
   "outputs": [
    {
     "name": "stderr",
     "output_type": "stream",
     "text": [
      "/Users/huayuan/opt/anaconda3/lib/python3.8/site-packages/pandas/core/frame.py:5039: SettingWithCopyWarning: \n",
      "A value is trying to be set on a copy of a slice from a DataFrame\n",
      "\n",
      "See the caveats in the documentation: https://pandas.pydata.org/pandas-docs/stable/user_guide/indexing.html#returning-a-view-versus-a-copy\n",
      "  return super().rename(\n"
     ]
    }
   ],
   "source": [
    "# rename columns to Country Name\n",
    "physical_activity.rename(columns={'Unnamed: 0': 'Country Name', 'Prevalence of insufficient physical activity among adults aged 18+ years (age-standardized estimate) (%)': 'Prevalence of Insufficient Physical Activity for 18+ Years Adults (age-standardized estimate)'}, inplace=True)"
   ]
  },
  {
   "cell_type": "code",
   "execution_count": 79,
   "metadata": {},
   "outputs": [
    {
     "data": {
      "text/html": [
       "<div>\n",
       "<style scoped>\n",
       "    .dataframe tbody tr th:only-of-type {\n",
       "        vertical-align: middle;\n",
       "    }\n",
       "\n",
       "    .dataframe tbody tr th {\n",
       "        vertical-align: top;\n",
       "    }\n",
       "\n",
       "    .dataframe thead th {\n",
       "        text-align: right;\n",
       "    }\n",
       "</style>\n",
       "<table border=\"1\" class=\"dataframe\">\n",
       "  <thead>\n",
       "    <tr style=\"text-align: right;\">\n",
       "      <th></th>\n",
       "      <th>Country Name</th>\n",
       "      <th>Prevalence of Insufficient Physical Activity for 18+ Years Adults (age-standardized estimate)</th>\n",
       "    </tr>\n",
       "  </thead>\n",
       "  <tbody>\n",
       "    <tr>\n",
       "      <th>67</th>\n",
       "      <td>Germany</td>\n",
       "      <td>42.2 [35.5-49.2]</td>\n",
       "    </tr>\n",
       "    <tr>\n",
       "      <th>85</th>\n",
       "      <td>Italy</td>\n",
       "      <td>41.4 [34.3-48.8]</td>\n",
       "    </tr>\n",
       "    <tr>\n",
       "      <th>87</th>\n",
       "      <td>Japan</td>\n",
       "      <td>35.5 [20.5-53.8]</td>\n",
       "    </tr>\n",
       "    <tr>\n",
       "      <th>186</th>\n",
       "      <td>United States of America</td>\n",
       "      <td>40.0 [33.0-47.3]</td>\n",
       "    </tr>\n",
       "  </tbody>\n",
       "</table>\n",
       "</div>"
      ],
      "text/plain": [
       "                 Country Name  \\\n",
       "67                    Germany   \n",
       "85                      Italy   \n",
       "87                      Japan   \n",
       "186  United States of America   \n",
       "\n",
       "    Prevalence of Insufficient Physical Activity for 18+ Years Adults (age-standardized estimate)  \n",
       "67                                    42.2 [35.5-49.2]                                             \n",
       "85                                    41.4 [34.3-48.8]                                             \n",
       "87                                    35.5 [20.5-53.8]                                             \n",
       "186                                   40.0 [33.0-47.3]                                             "
      ]
     },
     "execution_count": 79,
     "metadata": {},
     "output_type": "execute_result"
    }
   ],
   "source": [
    "physical_activity"
   ]
  },
  {
   "cell_type": "code",
   "execution_count": 80,
   "metadata": {},
   "outputs": [
    {
     "name": "stderr",
     "output_type": "stream",
     "text": [
      "<ipython-input-80-ce4f49407b88>:2: SettingWithCopyWarning: \n",
      "A value is trying to be set on a copy of a slice from a DataFrame.\n",
      "Try using .loc[row_indexer,col_indexer] = value instead\n",
      "\n",
      "See the caveats in the documentation: https://pandas.pydata.org/pandas-docs/stable/user_guide/indexing.html#returning-a-view-versus-a-copy\n",
      "  physical_activity['Prevalence of Insufficient Physical Activity for 18+ Years Adults (age-standardized estimate)'] = physical_activity['Prevalence of Insufficient Physical Activity for 18+ Years Adults (age-standardized estimate)'].str[:-12]\n"
     ]
    },
    {
     "data": {
      "text/html": [
       "<div>\n",
       "<style scoped>\n",
       "    .dataframe tbody tr th:only-of-type {\n",
       "        vertical-align: middle;\n",
       "    }\n",
       "\n",
       "    .dataframe tbody tr th {\n",
       "        vertical-align: top;\n",
       "    }\n",
       "\n",
       "    .dataframe thead th {\n",
       "        text-align: right;\n",
       "    }\n",
       "</style>\n",
       "<table border=\"1\" class=\"dataframe\">\n",
       "  <thead>\n",
       "    <tr style=\"text-align: right;\">\n",
       "      <th></th>\n",
       "      <th>Country Name</th>\n",
       "      <th>Prevalence of Insufficient Physical Activity for 18+ Years Adults (age-standardized estimate)</th>\n",
       "    </tr>\n",
       "  </thead>\n",
       "  <tbody>\n",
       "    <tr>\n",
       "      <th>67</th>\n",
       "      <td>Germany</td>\n",
       "      <td>42.2</td>\n",
       "    </tr>\n",
       "    <tr>\n",
       "      <th>85</th>\n",
       "      <td>Italy</td>\n",
       "      <td>41.4</td>\n",
       "    </tr>\n",
       "    <tr>\n",
       "      <th>87</th>\n",
       "      <td>Japan</td>\n",
       "      <td>35.5</td>\n",
       "    </tr>\n",
       "    <tr>\n",
       "      <th>186</th>\n",
       "      <td>United States of America</td>\n",
       "      <td>40.0</td>\n",
       "    </tr>\n",
       "  </tbody>\n",
       "</table>\n",
       "</div>"
      ],
      "text/plain": [
       "                 Country Name  \\\n",
       "67                    Germany   \n",
       "85                      Italy   \n",
       "87                      Japan   \n",
       "186  United States of America   \n",
       "\n",
       "    Prevalence of Insufficient Physical Activity for 18+ Years Adults (age-standardized estimate)  \n",
       "67                                                42.2                                             \n",
       "85                                                41.4                                             \n",
       "87                                                35.5                                             \n",
       "186                                               40.0                                             "
      ]
     },
     "execution_count": 80,
     "metadata": {},
     "output_type": "execute_result"
    }
   ],
   "source": [
    "# In column Prevalence of insufficient physical activity among adults aged 18+ years (age-standardized estimate) (%) remove the 12 last characters\n",
    "physical_activity['Prevalence of Insufficient Physical Activity for 18+ Years Adults (age-standardized estimate)'] = physical_activity['Prevalence of Insufficient Physical Activity for 18+ Years Adults (age-standardized estimate)'].str[:-12]\n",
    "physical_activity\n"
   ]
  },
  {
   "cell_type": "code",
   "execution_count": 81,
   "metadata": {},
   "outputs": [
    {
     "name": "stderr",
     "output_type": "stream",
     "text": [
      "<ipython-input-81-c74fc4aa3fcb>:2: SettingWithCopyWarning: \n",
      "A value is trying to be set on a copy of a slice from a DataFrame.\n",
      "Try using .loc[row_indexer,col_indexer] = value instead\n",
      "\n",
      "See the caveats in the documentation: https://pandas.pydata.org/pandas-docs/stable/user_guide/indexing.html#returning-a-view-versus-a-copy\n",
      "  physical_activity['Prevalence of Insufficient Physical Activity for 18+ Years Adults (age-standardized estimate)'] = physical_activity['Prevalence of Insufficient Physical Activity for 18+ Years Adults (age-standardized estimate)'].astype(float)\n"
     ]
    },
    {
     "data": {
      "text/html": [
       "<div>\n",
       "<style scoped>\n",
       "    .dataframe tbody tr th:only-of-type {\n",
       "        vertical-align: middle;\n",
       "    }\n",
       "\n",
       "    .dataframe tbody tr th {\n",
       "        vertical-align: top;\n",
       "    }\n",
       "\n",
       "    .dataframe thead th {\n",
       "        text-align: right;\n",
       "    }\n",
       "</style>\n",
       "<table border=\"1\" class=\"dataframe\">\n",
       "  <thead>\n",
       "    <tr style=\"text-align: right;\">\n",
       "      <th></th>\n",
       "      <th>Country Name</th>\n",
       "      <th>Prevalence of Insufficient Physical Activity for 18+ Years Adults (age-standardized estimate)</th>\n",
       "    </tr>\n",
       "  </thead>\n",
       "  <tbody>\n",
       "    <tr>\n",
       "      <th>67</th>\n",
       "      <td>Germany</td>\n",
       "      <td>42.2</td>\n",
       "    </tr>\n",
       "    <tr>\n",
       "      <th>85</th>\n",
       "      <td>Italy</td>\n",
       "      <td>41.4</td>\n",
       "    </tr>\n",
       "    <tr>\n",
       "      <th>87</th>\n",
       "      <td>Japan</td>\n",
       "      <td>35.5</td>\n",
       "    </tr>\n",
       "    <tr>\n",
       "      <th>186</th>\n",
       "      <td>United States of America</td>\n",
       "      <td>40.0</td>\n",
       "    </tr>\n",
       "  </tbody>\n",
       "</table>\n",
       "</div>"
      ],
      "text/plain": [
       "                 Country Name  \\\n",
       "67                    Germany   \n",
       "85                      Italy   \n",
       "87                      Japan   \n",
       "186  United States of America   \n",
       "\n",
       "     Prevalence of Insufficient Physical Activity for 18+ Years Adults (age-standardized estimate)  \n",
       "67                                                42.2                                              \n",
       "85                                                41.4                                              \n",
       "87                                                35.5                                              \n",
       "186                                               40.0                                              "
      ]
     },
     "execution_count": 81,
     "metadata": {},
     "output_type": "execute_result"
    }
   ],
   "source": [
    "# In column Prevalence of insufficient physical activity among adults aged 18+ years (age-standardized estimate) (%) convert to float\n",
    "physical_activity['Prevalence of Insufficient Physical Activity for 18+ Years Adults (age-standardized estimate)'] = physical_activity['Prevalence of Insufficient Physical Activity for 18+ Years Adults (age-standardized estimate)'].astype(float)\n",
    "physical_activity"
   ]
  },
  {
   "cell_type": "code",
   "execution_count": 82,
   "metadata": {},
   "outputs": [
    {
     "name": "stderr",
     "output_type": "stream",
     "text": [
      "/Users/huayuan/opt/anaconda3/lib/python3.8/site-packages/pandas/util/_decorators.py:311: SettingWithCopyWarning: \n",
      "A value is trying to be set on a copy of a slice from a DataFrame\n",
      "\n",
      "See the caveats in the documentation: https://pandas.pydata.org/pandas-docs/stable/user_guide/indexing.html#returning-a-view-versus-a-copy\n",
      "  return func(*args, **kwargs)\n",
      "<ipython-input-82-6773faac0086>:8: SettingWithCopyWarning: \n",
      "A value is trying to be set on a copy of a slice from a DataFrame.\n",
      "Try using .loc[row_indexer,col_indexer] = value instead\n",
      "\n",
      "See the caveats in the documentation: https://pandas.pydata.org/pandas-docs/stable/user_guide/indexing.html#returning-a-view-versus-a-copy\n",
      "  physical_activity['Country Name'] = physical_activity['Country Name'].str.replace('United States of America', 'United States')\n"
     ]
    },
    {
     "data": {
      "text/html": [
       "<div>\n",
       "<style scoped>\n",
       "    .dataframe tbody tr th:only-of-type {\n",
       "        vertical-align: middle;\n",
       "    }\n",
       "\n",
       "    .dataframe tbody tr th {\n",
       "        vertical-align: top;\n",
       "    }\n",
       "\n",
       "    .dataframe thead th {\n",
       "        text-align: right;\n",
       "    }\n",
       "</style>\n",
       "<table border=\"1\" class=\"dataframe\">\n",
       "  <thead>\n",
       "    <tr style=\"text-align: right;\">\n",
       "      <th></th>\n",
       "      <th>Country Name</th>\n",
       "      <th>Prevalence of Insufficient Physical Activity for 18+ Years Adults (age-standardized estimate)</th>\n",
       "    </tr>\n",
       "  </thead>\n",
       "  <tbody>\n",
       "    <tr>\n",
       "      <th>0</th>\n",
       "      <td>Germany</td>\n",
       "      <td>42.2</td>\n",
       "    </tr>\n",
       "    <tr>\n",
       "      <th>1</th>\n",
       "      <td>Italy</td>\n",
       "      <td>41.4</td>\n",
       "    </tr>\n",
       "    <tr>\n",
       "      <th>2</th>\n",
       "      <td>United States</td>\n",
       "      <td>40.0</td>\n",
       "    </tr>\n",
       "    <tr>\n",
       "      <th>3</th>\n",
       "      <td>Japan</td>\n",
       "      <td>35.5</td>\n",
       "    </tr>\n",
       "  </tbody>\n",
       "</table>\n",
       "</div>"
      ],
      "text/plain": [
       "    Country Name  \\\n",
       "0        Germany   \n",
       "1          Italy   \n",
       "2  United States   \n",
       "3          Japan   \n",
       "\n",
       "   Prevalence of Insufficient Physical Activity for 18+ Years Adults (age-standardized estimate)  \n",
       "0                                               42.2                                              \n",
       "1                                               41.4                                              \n",
       "2                                               40.0                                              \n",
       "3                                               35.5                                              "
      ]
     },
     "execution_count": 82,
     "metadata": {},
     "output_type": "execute_result"
    }
   ],
   "source": [
    "# sort by Prevalence of insufficient physical activity among adults aged 18+ years (age-standardized estimate) (%)\n",
    "physical_activity.sort_values(by='Prevalence of Insufficient Physical Activity for 18+ Years Adults (age-standardized estimate)', ascending = False, inplace=True)\n",
    "\n",
    "# reset index\n",
    "physical_activity.reset_index(drop=True, inplace=True)\n",
    "\n",
    "# Rename united states of america to United States\n",
    "physical_activity['Country Name'] = physical_activity['Country Name'].str.replace('United States of America', 'United States')\n",
    "\n",
    "physical_activity\n"
   ]
  },
  {
   "cell_type": "code",
   "execution_count": 84,
   "metadata": {},
   "outputs": [
    {
     "data": {
      "image/png": "[encoded data removed]",
      "text/plain": [
       "<Figure size 432x288 with 1 Axes>"
      ]
     },
     "metadata": {},
     "output_type": "display_data"
    }
   ],
   "source": [
    "# Make bar plot with countries on x axis and Prevalence of insufficient physical activity among adults aged 18+ years (age-standardized estimate) (%) on y axis in sns theme\n",
    "sns.barplot(data=physical_activity, x='Country Name', y='Prevalence of Insufficient Physical Activity for 18+ Years Adults (age-standardized estimate)', palette=\"Blues_r)\n",
    "plt.title('Prevalence of Insufficient Physical Activity for 18+ Years Adults (age-standardized estimate)')\n",
    "plt.ylabel('%') \n",
    "plt.xlabel('Country')\n",
    "plt.show()\n",
    "\n"
   ]
  },
  {
   "cell_type": "code",
   "execution_count": 97,
   "metadata": {},
   "outputs": [
    {
     "data": {
      "text/html": [
       "<div>\n",
       "<style scoped>\n",
       "    .dataframe tbody tr th:only-of-type {\n",
       "        vertical-align: middle;\n",
       "    }\n",
       "\n",
       "    .dataframe tbody tr th {\n",
       "        vertical-align: top;\n",
       "    }\n",
       "\n",
       "    .dataframe thead th {\n",
       "        text-align: right;\n",
       "    }\n",
       "</style>\n",
       "<table border=\"1\" class=\"dataframe\">\n",
       "  <thead>\n",
       "    <tr style=\"text-align: right;\">\n",
       "      <th></th>\n",
       "      <th>Unnamed: 0</th>\n",
       "      <th>Age-standardized suicide rates (per 100 000 population)</th>\n",
       "    </tr>\n",
       "  </thead>\n",
       "  <tbody>\n",
       "    <tr>\n",
       "      <th>0</th>\n",
       "      <td>United States</td>\n",
       "      <td>14.5</td>\n",
       "    </tr>\n",
       "    <tr>\n",
       "      <th>1</th>\n",
       "      <td>Japan</td>\n",
       "      <td>12.2</td>\n",
       "    </tr>\n",
       "    <tr>\n",
       "      <th>2</th>\n",
       "      <td>Germany</td>\n",
       "      <td>8.3</td>\n",
       "    </tr>\n",
       "    <tr>\n",
       "      <th>3</th>\n",
       "      <td>Italy</td>\n",
       "      <td>4.3</td>\n",
       "    </tr>\n",
       "  </tbody>\n",
       "</table>\n",
       "</div>"
      ],
      "text/plain": [
       "      Unnamed: 0  Age-standardized suicide rates (per 100 000 population)\n",
       "0  United States                                               14.5      \n",
       "1          Japan                                               12.2      \n",
       "2        Germany                                                8.3      \n",
       "3          Italy                                                4.3      "
      ]
     },
     "execution_count": 97,
     "metadata": {},
     "output_type": "execute_result"
    }
   ],
   "source": [
    "sui = pd.read_csv('data/sui.csv')\n",
    "\n",
    "# Only keep the first three columns \n",
    "sui = sui.iloc[:, :3]\n",
    "\n",
    "# drop firs row\n",
    "sui.drop(0, inplace=True)\n",
    "\n",
    "sui['Age-standardized suicide rates (per 100 000 population)'] = sui['Age-standardized suicide rates (per 100 000 population)'].str[:4]\n",
    "\n",
    "sui['Age-standardized suicide rates (per 100 000 population)'] = sui['Age-standardized suicide rates (per 100 000 population)'].astype(float)\n",
    "\n",
    "sui = sui[sui['Unnamed: 1'] == 'Both sexes']\n",
    "\n",
    "sui = sui[['Unnamed: 0', 'Age-standardized suicide rates (per 100 000 population)']]\n",
    "\n",
    "# Only include countries \n",
    "\n",
    "sui = sui[sui['Unnamed: 0'].isin(['United States of America', 'Japan', 'Germany', 'Italy'])]\n",
    "\n",
    "# sort by Prevalence of insufficient physical activity among adults aged 18+ years (age-standardized estimate) (%)\n",
    "sui.sort_values(by='Age-standardized suicide rates (per 100 000 population)', ascending = False, inplace=True)\n",
    "\n",
    "# reset index\n",
    "sui.reset_index(drop=True, inplace=True)\n",
    "\n",
    "# Rename united states of america to United States\n",
    "sui['Unnamed: 0'] = sui['Unnamed: 0'].str.replace('United States of America', 'United States')\n",
    "\n",
    "\n",
    "sui"
   ]
  },
  {
   "cell_type": "code",
   "execution_count": 101,
   "metadata": {},
   "outputs": [
    {
     "data": {
      "image/png": "[encoded data removed]",
      "text/plain": [
       "<Figure size 432x288 with 1 Axes>"
      ]
     },
     "metadata": {},
     "output_type": "display_data"
    }
   ],
   "source": [
    "# Make bar plot with countries on x axis and Prevalence of insufficient physical activity among adults aged 18+ years (age-standardized estimate) (%) on y axis in sns theme\n",
    "sns.barplot(data=sui, x='Unnamed: 0', y='Age-standardized suicide rates (per 100 000 population)', palette=\"Blues_r)\n",
    "plt.title('Age-standardized Suicide Rates (per 100 000 population)')\n",
    "plt.ylabel('Occurence/100000') \n",
    "plt.xlabel('Country')\n",
    "plt.show()"
   ]
  },
  {
   "cell_type": "code",
   "execution_count": 119,
   "metadata": {},
   "outputs": [],
   "source": [
    "kalo = pd.read_csv('data/daily-per-capita-caloric-supply.csv')"
   ]
  },
  {
   "cell_type": "code",
   "execution_count": 120,
   "metadata": {},
   "outputs": [
    {
     "data": {
      "text/html": [
       "<div>\n",
       "<style scoped>\n",
       "    .dataframe tbody tr th:only-of-type {\n",
       "        vertical-align: middle;\n",
       "    }\n",
       "\n",
       "    .dataframe tbody tr th {\n",
       "        vertical-align: top;\n",
       "    }\n",
       "\n",
       "    .dataframe thead th {\n",
       "        text-align: right;\n",
       "    }\n",
       "</style>\n",
       "<table border=\"1\" class=\"dataframe\">\n",
       "  <thead>\n",
       "    <tr style=\"text-align: right;\">\n",
       "      <th></th>\n",
       "      <th>Entity</th>\n",
       "      <th>Code</th>\n",
       "      <th>Year</th>\n",
       "      <th>Daily caloric supply (OWID based on UN FAO &amp; historical sources)</th>\n",
       "    </tr>\n",
       "  </thead>\n",
       "  <tbody>\n",
       "    <tr>\n",
       "      <th>57</th>\n",
       "      <td>Afghanistan</td>\n",
       "      <td>AFG</td>\n",
       "      <td>2018</td>\n",
       "      <td>2040.000000</td>\n",
       "    </tr>\n",
       "    <tr>\n",
       "      <th>115</th>\n",
       "      <td>Africa</td>\n",
       "      <td>NaN</td>\n",
       "      <td>2018</td>\n",
       "      <td>2604.253905</td>\n",
       "    </tr>\n",
       "    <tr>\n",
       "      <th>173</th>\n",
       "      <td>Albania</td>\n",
       "      <td>ALB</td>\n",
       "      <td>2018</td>\n",
       "      <td>3360.000000</td>\n",
       "    </tr>\n",
       "    <tr>\n",
       "      <th>233</th>\n",
       "      <td>Algeria</td>\n",
       "      <td>DZA</td>\n",
       "      <td>2018</td>\n",
       "      <td>3322.000000</td>\n",
       "    </tr>\n",
       "    <tr>\n",
       "      <th>291</th>\n",
       "      <td>Angola</td>\n",
       "      <td>AGO</td>\n",
       "      <td>2018</td>\n",
       "      <td>2385.000000</td>\n",
       "    </tr>\n",
       "    <tr>\n",
       "      <th>...</th>\n",
       "      <td>...</td>\n",
       "      <td>...</td>\n",
       "      <td>...</td>\n",
       "      <td>...</td>\n",
       "    </tr>\n",
       "    <tr>\n",
       "      <th>9878</th>\n",
       "      <td>Vietnam</td>\n",
       "      <td>VNM</td>\n",
       "      <td>2018</td>\n",
       "      <td>3025.000000</td>\n",
       "    </tr>\n",
       "    <tr>\n",
       "      <th>9936</th>\n",
       "      <td>World</td>\n",
       "      <td>OWID_WRL</td>\n",
       "      <td>2018</td>\n",
       "      <td>2928.399523</td>\n",
       "    </tr>\n",
       "    <tr>\n",
       "      <th>9994</th>\n",
       "      <td>Yemen</td>\n",
       "      <td>YEM</td>\n",
       "      <td>2018</td>\n",
       "      <td>2154.000000</td>\n",
       "    </tr>\n",
       "    <tr>\n",
       "      <th>10053</th>\n",
       "      <td>Zambia</td>\n",
       "      <td>ZMB</td>\n",
       "      <td>2018</td>\n",
       "      <td>2002.000000</td>\n",
       "    </tr>\n",
       "    <tr>\n",
       "      <th>10111</th>\n",
       "      <td>Zimbabwe</td>\n",
       "      <td>ZWE</td>\n",
       "      <td>2018</td>\n",
       "      <td>1908.000000</td>\n",
       "    </tr>\n",
       "  </tbody>\n",
       "</table>\n",
       "<p>185 rows × 4 columns</p>\n",
       "</div>"
      ],
      "text/plain": [
       "            Entity      Code  Year  \\\n",
       "57     Afghanistan       AFG  2018   \n",
       "115         Africa       NaN  2018   \n",
       "173        Albania       ALB  2018   \n",
       "233        Algeria       DZA  2018   \n",
       "291         Angola       AGO  2018   \n",
       "...            ...       ...   ...   \n",
       "9878       Vietnam       VNM  2018   \n",
       "9936         World  OWID_WRL  2018   \n",
       "9994         Yemen       YEM  2018   \n",
       "10053       Zambia       ZMB  2018   \n",
       "10111     Zimbabwe       ZWE  2018   \n",
       "\n",
       "       Daily caloric supply (OWID based on UN FAO & historical sources)  \n",
       "57                                           2040.000000                 \n",
       "115                                          2604.253905                 \n",
       "173                                          3360.000000                 \n",
       "233                                          3322.000000                 \n",
       "291                                          2385.000000                 \n",
       "...                                                  ...                 \n",
       "9878                                         3025.000000                 \n",
       "9936                                         2928.399523                 \n",
       "9994                                         2154.000000                 \n",
       "10053                                        2002.000000                 \n",
       "10111                                        1908.000000                 \n",
       "\n",
       "[185 rows x 4 columns]"
      ]
     },
     "execution_count": 120,
     "metadata": {},
     "output_type": "execute_result"
    }
   ],
   "source": [
    "kalo = kalo[kalo['Year']==2018]\n",
    "kalo"
   ]
  },
  {
   "cell_type": "code",
   "execution_count": 121,
   "metadata": {},
   "outputs": [
    {
     "data": {
      "text/html": [
       "<div>\n",
       "<style scoped>\n",
       "    .dataframe tbody tr th:only-of-type {\n",
       "        vertical-align: middle;\n",
       "    }\n",
       "\n",
       "    .dataframe tbody tr th {\n",
       "        vertical-align: top;\n",
       "    }\n",
       "\n",
       "    .dataframe thead th {\n",
       "        text-align: right;\n",
       "    }\n",
       "</style>\n",
       "<table border=\"1\" class=\"dataframe\">\n",
       "  <thead>\n",
       "    <tr style=\"text-align: right;\">\n",
       "      <th></th>\n",
       "      <th>Entity</th>\n",
       "      <th>Code</th>\n",
       "      <th>Year</th>\n",
       "      <th>Daily caloric supply (OWID based on UN FAO &amp; historical sources)</th>\n",
       "    </tr>\n",
       "  </thead>\n",
       "  <tbody>\n",
       "    <tr>\n",
       "      <th>3344</th>\n",
       "      <td>Germany</td>\n",
       "      <td>DEU</td>\n",
       "      <td>2018</td>\n",
       "      <td>3554.0</td>\n",
       "    </tr>\n",
       "    <tr>\n",
       "      <th>4529</th>\n",
       "      <td>Italy</td>\n",
       "      <td>ITA</td>\n",
       "      <td>2018</td>\n",
       "      <td>3503.0</td>\n",
       "    </tr>\n",
       "    <tr>\n",
       "      <th>4647</th>\n",
       "      <td>Japan</td>\n",
       "      <td>JPN</td>\n",
       "      <td>2018</td>\n",
       "      <td>2705.0</td>\n",
       "    </tr>\n",
       "    <tr>\n",
       "      <th>9559</th>\n",
       "      <td>United States</td>\n",
       "      <td>USA</td>\n",
       "      <td>2018</td>\n",
       "      <td>3782.0</td>\n",
       "    </tr>\n",
       "  </tbody>\n",
       "</table>\n",
       "</div>"
      ],
      "text/plain": [
       "             Entity Code  Year  \\\n",
       "3344        Germany  DEU  2018   \n",
       "4529          Italy  ITA  2018   \n",
       "4647          Japan  JPN  2018   \n",
       "9559  United States  USA  2018   \n",
       "\n",
       "      Daily caloric supply (OWID based on UN FAO & historical sources)  \n",
       "3344                                             3554.0                 \n",
       "4529                                             3503.0                 \n",
       "4647                                             2705.0                 \n",
       "9559                                             3782.0                 "
      ]
     },
     "execution_count": 121,
     "metadata": {},
     "output_type": "execute_result"
    }
   ],
   "source": [
    "kalo = kalo[kalo['Entity'].isin(['United States', 'Japan', 'Germany', 'Italy'])]\n",
    "kalo"
   ]
  },
  {
   "cell_type": "code",
   "execution_count": 122,
   "metadata": {},
   "outputs": [
    {
     "name": "stderr",
     "output_type": "stream",
     "text": [
      "/Users/huayuan/opt/anaconda3/lib/python3.8/site-packages/pandas/util/_decorators.py:311: SettingWithCopyWarning: \n",
      "A value is trying to be set on a copy of a slice from a DataFrame\n",
      "\n",
      "See the caveats in the documentation: https://pandas.pydata.org/pandas-docs/stable/user_guide/indexing.html#returning-a-view-versus-a-copy\n",
      "  return func(*args, **kwargs)\n"
     ]
    },
    {
     "data": {
      "text/html": [
       "<div>\n",
       "<style scoped>\n",
       "    .dataframe tbody tr th:only-of-type {\n",
       "        vertical-align: middle;\n",
       "    }\n",
       "\n",
       "    .dataframe tbody tr th {\n",
       "        vertical-align: top;\n",
       "    }\n",
       "\n",
       "    .dataframe thead th {\n",
       "        text-align: right;\n",
       "    }\n",
       "</style>\n",
       "<table border=\"1\" class=\"dataframe\">\n",
       "  <thead>\n",
       "    <tr style=\"text-align: right;\">\n",
       "      <th></th>\n",
       "      <th>Entity</th>\n",
       "      <th>Code</th>\n",
       "      <th>Year</th>\n",
       "      <th>Daily caloric supply (OWID based on UN FAO &amp; historical sources)</th>\n",
       "    </tr>\n",
       "  </thead>\n",
       "  <tbody>\n",
       "    <tr>\n",
       "      <th>0</th>\n",
       "      <td>United States</td>\n",
       "      <td>USA</td>\n",
       "      <td>2018</td>\n",
       "      <td>3782.0</td>\n",
       "    </tr>\n",
       "    <tr>\n",
       "      <th>1</th>\n",
       "      <td>Germany</td>\n",
       "      <td>DEU</td>\n",
       "      <td>2018</td>\n",
       "      <td>3554.0</td>\n",
       "    </tr>\n",
       "    <tr>\n",
       "      <th>2</th>\n",
       "      <td>Italy</td>\n",
       "      <td>ITA</td>\n",
       "      <td>2018</td>\n",
       "      <td>3503.0</td>\n",
       "    </tr>\n",
       "    <tr>\n",
       "      <th>3</th>\n",
       "      <td>Japan</td>\n",
       "      <td>JPN</td>\n",
       "      <td>2018</td>\n",
       "      <td>2705.0</td>\n",
       "    </tr>\n",
       "  </tbody>\n",
       "</table>\n",
       "</div>"
      ],
      "text/plain": [
       "          Entity Code  Year  \\\n",
       "0  United States  USA  2018   \n",
       "1        Germany  DEU  2018   \n",
       "2          Italy  ITA  2018   \n",
       "3          Japan  JPN  2018   \n",
       "\n",
       "   Daily caloric supply (OWID based on UN FAO & historical sources)  \n",
       "0                                             3782.0                 \n",
       "1                                             3554.0                 \n",
       "2                                             3503.0                 \n",
       "3                                             2705.0                 "
      ]
     },
     "execution_count": 122,
     "metadata": {},
     "output_type": "execute_result"
    }
   ],
   "source": [
    "# sort by Prevalence of insufficient physical activity among adults aged 18+ years (age-standardized estimate) (%)\n",
    "kalo.sort_values(by='Daily caloric supply (OWID based on UN FAO & historical sources)', ascending = False, inplace=True)\n",
    "\n",
    "# reset index\n",
    "kalo.reset_index(drop=True, inplace=True)\n",
    "\n",
    "kalo"
   ]
  },
  {
   "cell_type": "code",
   "execution_count": 124,
   "metadata": {},
   "outputs": [
    {
     "data": {
      "image/png": "[encoded data removed]",
      "text/plain": [
       "<Figure size 432x288 with 1 Axes>"
      ]
     },
     "metadata": {},
     "output_type": "display_data"
    }
   ],
   "source": [
    "# Make bar plot with countries on x axis and Prevalence of insufficient physical activity among adults aged 18+ years (age-standardized estimate) (%) on y axis in sns theme\n",
    "sns.barplot(data=kalo, x='Entity', y='Daily caloric supply (OWID based on UN FAO & historical sources)', palette=\"Greens_r\")\n",
    "plt.title('Daily Caloric Supply - 2018')\n",
    "plt.ylabel('kcal') \n",
    "plt.xlabel('Country')\n",
    "plt.show()"
   ]
  },
  {
   "cell_type": "code",
   "execution_count": 3,
   "metadata": {},
   "outputs": [
    {
     "data": {
      "text/html": [
       "<div>\n",
       "<style scoped>\n",
       "    .dataframe tbody tr th:only-of-type {\n",
       "        vertical-align: middle;\n",
       "    }\n",
       "\n",
       "    .dataframe tbody tr th {\n",
       "        vertical-align: top;\n",
       "    }\n",
       "\n",
       "    .dataframe thead th {\n",
       "        text-align: right;\n",
       "    }\n",
       "</style>\n",
       "<table border=\"1\" class=\"dataframe\">\n",
       "  <thead>\n",
       "    <tr style=\"text-align: right;\">\n",
       "      <th></th>\n",
       "      <th>Country</th>\n",
       "      <th>mu_hours</th>\n",
       "    </tr>\n",
       "  </thead>\n",
       "  <tbody>\n",
       "    <tr>\n",
       "      <th>0</th>\n",
       "      <td>Germany</td>\n",
       "      <td>11.1</td>\n",
       "    </tr>\n",
       "    <tr>\n",
       "      <th>1</th>\n",
       "      <td>Italy</td>\n",
       "      <td>3.6</td>\n",
       "    </tr>\n",
       "    <tr>\n",
       "      <th>2</th>\n",
       "      <td>United States</td>\n",
       "      <td>6.3</td>\n",
       "    </tr>\n",
       "    <tr>\n",
       "      <th>3</th>\n",
       "      <td>Japan</td>\n",
       "      <td>3.3</td>\n",
       "    </tr>\n",
       "  </tbody>\n",
       "</table>\n",
       "</div>"
      ],
      "text/plain": [
       "         Country  mu_hours\n",
       "0        Germany      11.1\n",
       "1          Italy       3.6\n",
       "2  United States       6.3\n",
       "3          Japan       3.3"
      ]
     },
     "execution_count": 3,
     "metadata": {},
     "output_type": "execute_result"
    }
   ],
   "source": [
    "import pandas as pd\n",
    "exercise_df = pd.read_csv('data/exercise_dat.csv')\n",
    "exercise_df"
   ]
  },
  {
   "cell_type": "code",
   "execution_count": 4,
   "metadata": {},
   "outputs": [
    {
     "data": {
      "text/html": [
       "<div>\n",
       "<style scoped>\n",
       "    .dataframe tbody tr th:only-of-type {\n",
       "        vertical-align: middle;\n",
       "    }\n",
       "\n",
       "    .dataframe tbody tr th {\n",
       "        vertical-align: top;\n",
       "    }\n",
       "\n",
       "    .dataframe thead th {\n",
       "        text-align: right;\n",
       "    }\n",
       "</style>\n",
       "<table border=\"1\" class=\"dataframe\">\n",
       "  <thead>\n",
       "    <tr style=\"text-align: right;\">\n",
       "      <th></th>\n",
       "      <th>Country</th>\n",
       "      <th>mu_hours</th>\n",
       "    </tr>\n",
       "  </thead>\n",
       "  <tbody>\n",
       "    <tr>\n",
       "      <th>0</th>\n",
       "      <td>Germany</td>\n",
       "      <td>11.1</td>\n",
       "    </tr>\n",
       "    <tr>\n",
       "      <th>2</th>\n",
       "      <td>United States</td>\n",
       "      <td>6.3</td>\n",
       "    </tr>\n",
       "    <tr>\n",
       "      <th>1</th>\n",
       "      <td>Italy</td>\n",
       "      <td>3.6</td>\n",
       "    </tr>\n",
       "    <tr>\n",
       "      <th>3</th>\n",
       "      <td>Japan</td>\n",
       "      <td>3.3</td>\n",
       "    </tr>\n",
       "  </tbody>\n",
       "</table>\n",
       "</div>"
      ],
      "text/plain": [
       "         Country  mu_hours\n",
       "0        Germany      11.1\n",
       "2  United States       6.3\n",
       "1          Italy       3.6\n",
       "3          Japan       3.3"
      ]
     },
     "execution_count": 4,
     "metadata": {},
     "output_type": "execute_result"
    }
   ],
   "source": [
    "# sort by mu_hours\n",
    "exercise_df.sort_values(by='mu_hours', ascending = False, inplace=True)\n",
    "exercise_df"
   ]
  },
  {
   "cell_type": "code",
   "execution_count": 10,
   "metadata": {},
   "outputs": [
    {
     "data": {
      "image/png": "[encoded data removed]",
      "text/plain": [
       "<Figure size 432x288 with 1 Axes>"
      ]
     },
     "metadata": {
      "needs_background": "light"
     },
     "output_type": "display_data"
    }
   ],
   "source": [
    "import seaborn as sns\n",
    "import matplotlib.pyplot as plt\n",
    "# Make bar plot with countries on x axis and Prevalence of insufficient physical activity among adults aged 18+ years (age-standardized estimate) (%) on y axis in sns theme\n",
    "sns.barplot(data=exercise_df, x='Country', y='mu_hours', palette=\"Blues_r\")\n",
    "plt.title('Mean Number of Hours of Physical Exercise/week - 2021')\n",
    "plt.ylabel('Hours') \n",
    "plt.xlabel('Country')\n",
    "plt.show()"
   ]
  },
  {
   "cell_type": "code",
   "execution_count": 11,
   "metadata": {},
   "outputs": [
    {
     "data": {
      "text/html": [
       "<div>\n",
       "<style scoped>\n",
       "    .dataframe tbody tr th:only-of-type {\n",
       "        vertical-align: middle;\n",
       "    }\n",
       "\n",
       "    .dataframe tbody tr th {\n",
       "        vertical-align: top;\n",
       "    }\n",
       "\n",
       "    .dataframe thead th {\n",
       "        text-align: right;\n",
       "    }\n",
       "</style>\n",
       "<table border=\"1\" class=\"dataframe\">\n",
       "  <thead>\n",
       "    <tr style=\"text-align: right;\">\n",
       "      <th></th>\n",
       "      <th>name</th>\n",
       "      <th>slug</th>\n",
       "      <th>value</th>\n",
       "      <th>date_of_information</th>\n",
       "      <th>ranking</th>\n",
       "      <th>region</th>\n",
       "    </tr>\n",
       "  </thead>\n",
       "  <tbody>\n",
       "    <tr>\n",
       "      <th>0</th>\n",
       "      <td>United States</td>\n",
       "      <td>united-states</td>\n",
       "      <td>36.2</td>\n",
       "      <td>2016</td>\n",
       "      <td>12</td>\n",
       "      <td>North America</td>\n",
       "    </tr>\n",
       "    <tr>\n",
       "      <th>1</th>\n",
       "      <td>Germany</td>\n",
       "      <td>germany</td>\n",
       "      <td>22.3</td>\n",
       "      <td>2016</td>\n",
       "      <td>79</td>\n",
       "      <td>Europe</td>\n",
       "    </tr>\n",
       "    <tr>\n",
       "      <th>2</th>\n",
       "      <td>Italy</td>\n",
       "      <td>italy</td>\n",
       "      <td>19.9</td>\n",
       "      <td>2016</td>\n",
       "      <td>108</td>\n",
       "      <td>Europe</td>\n",
       "    </tr>\n",
       "    <tr>\n",
       "      <th>3</th>\n",
       "      <td>Japan</td>\n",
       "      <td>japan</td>\n",
       "      <td>4.3</td>\n",
       "      <td>2016</td>\n",
       "      <td>186</td>\n",
       "      <td>East and Southeast Asia</td>\n",
       "    </tr>\n",
       "  </tbody>\n",
       "</table>\n",
       "</div>"
      ],
      "text/plain": [
       "            name           slug  value  date_of_information  ranking  \\\n",
       "0  United States  united-states   36.2                 2016       12   \n",
       "1        Germany        germany   22.3                 2016       79   \n",
       "2          Italy          italy   19.9                 2016      108   \n",
       "3          Japan          japan    4.3                 2016      186   \n",
       "\n",
       "                    region  \n",
       "0            North America  \n",
       "1                   Europe  \n",
       "2                   Europe  \n",
       "3  East and Southeast Asia  "
      ]
     },
     "execution_count": 11,
     "metadata": {},
     "output_type": "execute_result"
    }
   ],
   "source": [
    "obese = pd.read_csv('data/obesity.csv')\n",
    "obese"
   ]
  },
  {
   "cell_type": "code",
   "execution_count": 12,
   "metadata": {},
   "outputs": [
    {
     "data": {
      "image/png": "[encoded data removed]",
      "text/plain": [
       "<Figure size 432x288 with 1 Axes>"
      ]
     },
     "metadata": {
      "needs_background": "light"
     },
     "output_type": "display_data"
    }
   ],
   "source": [
    "import seaborn as sns\n",
    "import matplotlib.pyplot as plt\n",
    "# Make bar plot with countries on x axis and Prevalence of insufficient physical activity among adults aged 18+ years (age-standardized estimate) (%) on y axis in sns theme\n",
    "sns.barplot(data=obese, x='name', y='value', palette=\"Greens_r\")\n",
    "plt.title('Obesity, Adult Prevalence - 2016')\n",
    "plt.ylabel('%') \n",
    "plt.xlabel('Country')\n",
    "plt.show()"
   ]
  },
  {
   "cell_type": "code",
   "execution_count": 21,
   "metadata": {},
   "outputs": [
    {
     "data": {
      "text/html": [
       "<div>\n",
       "<style scoped>\n",
       "    .dataframe tbody tr th:only-of-type {\n",
       "        vertical-align: middle;\n",
       "    }\n",
       "\n",
       "    .dataframe tbody tr th {\n",
       "        vertical-align: top;\n",
       "    }\n",
       "\n",
       "    .dataframe thead th {\n",
       "        text-align: right;\n",
       "    }\n",
       "</style>\n",
       "<table border=\"1\" class=\"dataframe\">\n",
       "  <thead>\n",
       "    <tr style=\"text-align: right;\">\n",
       "      <th></th>\n",
       "      <th>year</th>\n",
       "      <th>age</th>\n",
       "    </tr>\n",
       "  </thead>\n",
       "  <tbody>\n",
       "    <tr>\n",
       "      <th>0</th>\n",
       "      <td>1964</td>\n",
       "      <td>113.641096</td>\n",
       "    </tr>\n",
       "    <tr>\n",
       "      <th>1</th>\n",
       "      <td>1965</td>\n",
       "      <td>110.156164</td>\n",
       "    </tr>\n",
       "    <tr>\n",
       "      <th>2</th>\n",
       "      <td>1966</td>\n",
       "      <td>110.082192</td>\n",
       "    </tr>\n",
       "    <tr>\n",
       "      <th>3</th>\n",
       "      <td>1968</td>\n",
       "      <td>111.484932</td>\n",
       "    </tr>\n",
       "    <tr>\n",
       "      <th>4</th>\n",
       "      <td>1969</td>\n",
       "      <td>111.605479</td>\n",
       "    </tr>\n",
       "    <tr>\n",
       "      <th>5</th>\n",
       "      <td>1970</td>\n",
       "      <td>112.002740</td>\n",
       "    </tr>\n",
       "    <tr>\n",
       "      <th>6</th>\n",
       "      <td>1973</td>\n",
       "      <td>112.698630</td>\n",
       "    </tr>\n",
       "    <tr>\n",
       "      <th>7</th>\n",
       "      <td>1975</td>\n",
       "      <td>112.252055</td>\n",
       "    </tr>\n",
       "    <tr>\n",
       "      <th>8</th>\n",
       "      <td>1976</td>\n",
       "      <td>113.358904</td>\n",
       "    </tr>\n",
       "    <tr>\n",
       "      <th>9</th>\n",
       "      <td>1977</td>\n",
       "      <td>111.498630</td>\n",
       "    </tr>\n",
       "    <tr>\n",
       "      <th>10</th>\n",
       "      <td>1978</td>\n",
       "      <td>111.802740</td>\n",
       "    </tr>\n",
       "    <tr>\n",
       "      <th>11</th>\n",
       "      <td>1981</td>\n",
       "      <td>113.852055</td>\n",
       "    </tr>\n",
       "    <tr>\n",
       "      <th>12</th>\n",
       "      <td>1982</td>\n",
       "      <td>113.295890</td>\n",
       "    </tr>\n",
       "    <tr>\n",
       "      <th>13</th>\n",
       "      <td>1983</td>\n",
       "      <td>113.495890</td>\n",
       "    </tr>\n",
       "    <tr>\n",
       "      <th>14</th>\n",
       "      <td>1985</td>\n",
       "      <td>114.684932</td>\n",
       "    </tr>\n",
       "    <tr>\n",
       "      <th>15</th>\n",
       "      <td>1986</td>\n",
       "      <td>115.293151</td>\n",
       "    </tr>\n",
       "    <tr>\n",
       "      <th>16</th>\n",
       "      <td>1987</td>\n",
       "      <td>114.643836</td>\n",
       "    </tr>\n",
       "    <tr>\n",
       "      <th>17</th>\n",
       "      <td>1988</td>\n",
       "      <td>114.328767</td>\n",
       "    </tr>\n",
       "    <tr>\n",
       "      <th>18</th>\n",
       "      <td>1997</td>\n",
       "      <td>122.531507</td>\n",
       "    </tr>\n",
       "    <tr>\n",
       "      <th>19</th>\n",
       "      <td>1998</td>\n",
       "      <td>117.706849</td>\n",
       "    </tr>\n",
       "    <tr>\n",
       "      <th>20</th>\n",
       "      <td>1999</td>\n",
       "      <td>119.342466</td>\n",
       "    </tr>\n",
       "    <tr>\n",
       "      <th>21</th>\n",
       "      <td>2000</td>\n",
       "      <td>115.060274</td>\n",
       "    </tr>\n",
       "    <tr>\n",
       "      <th>22</th>\n",
       "      <td>2001</td>\n",
       "      <td>115.191781</td>\n",
       "    </tr>\n",
       "    <tr>\n",
       "      <th>23</th>\n",
       "      <td>2002</td>\n",
       "      <td>114.608219</td>\n",
       "    </tr>\n",
       "    <tr>\n",
       "      <th>24</th>\n",
       "      <td>2003</td>\n",
       "      <td>114.591781</td>\n",
       "    </tr>\n",
       "    <tr>\n",
       "      <th>25</th>\n",
       "      <td>2004</td>\n",
       "      <td>114.819178</td>\n",
       "    </tr>\n",
       "    <tr>\n",
       "      <th>26</th>\n",
       "      <td>2006</td>\n",
       "      <td>117.027397</td>\n",
       "    </tr>\n",
       "    <tr>\n",
       "      <th>27</th>\n",
       "      <td>2007</td>\n",
       "      <td>115.504110</td>\n",
       "    </tr>\n",
       "    <tr>\n",
       "      <th>28</th>\n",
       "      <td>2008</td>\n",
       "      <td>115.679452</td>\n",
       "    </tr>\n",
       "    <tr>\n",
       "      <th>29</th>\n",
       "      <td>2009</td>\n",
       "      <td>115.509589</td>\n",
       "    </tr>\n",
       "    <tr>\n",
       "      <th>30</th>\n",
       "      <td>2010</td>\n",
       "      <td>115.054795</td>\n",
       "    </tr>\n",
       "    <tr>\n",
       "      <th>31</th>\n",
       "      <td>2011</td>\n",
       "      <td>115.024658</td>\n",
       "    </tr>\n",
       "    <tr>\n",
       "      <th>32</th>\n",
       "      <td>2012</td>\n",
       "      <td>115.780822</td>\n",
       "    </tr>\n",
       "    <tr>\n",
       "      <th>33</th>\n",
       "      <td>2013</td>\n",
       "      <td>116.224658</td>\n",
       "    </tr>\n",
       "    <tr>\n",
       "      <th>34</th>\n",
       "      <td>2015</td>\n",
       "      <td>117.150685</td>\n",
       "    </tr>\n",
       "    <tr>\n",
       "      <th>35</th>\n",
       "      <td>2016</td>\n",
       "      <td>116.528767</td>\n",
       "    </tr>\n",
       "    <tr>\n",
       "      <th>36</th>\n",
       "      <td>2017</td>\n",
       "      <td>117.597260</td>\n",
       "    </tr>\n",
       "    <tr>\n",
       "      <th>37</th>\n",
       "      <td>2018</td>\n",
       "      <td>117.791781</td>\n",
       "    </tr>\n",
       "    <tr>\n",
       "      <th>38</th>\n",
       "      <td>2019</td>\n",
       "      <td>116.246575</td>\n",
       "    </tr>\n",
       "    <tr>\n",
       "      <th>39</th>\n",
       "      <td>2020</td>\n",
       "      <td>115.126027</td>\n",
       "    </tr>\n",
       "  </tbody>\n",
       "</table>\n",
       "</div>"
      ],
      "text/plain": [
       "    year         age\n",
       "0   1964  113.641096\n",
       "1   1965  110.156164\n",
       "2   1966  110.082192\n",
       "3   1968  111.484932\n",
       "4   1969  111.605479\n",
       "5   1970  112.002740\n",
       "6   1973  112.698630\n",
       "7   1975  112.252055\n",
       "8   1976  113.358904\n",
       "9   1977  111.498630\n",
       "10  1978  111.802740\n",
       "11  1981  113.852055\n",
       "12  1982  113.295890\n",
       "13  1983  113.495890\n",
       "14  1985  114.684932\n",
       "15  1986  115.293151\n",
       "16  1987  114.643836\n",
       "17  1988  114.328767\n",
       "18  1997  122.531507\n",
       "19  1998  117.706849\n",
       "20  1999  119.342466\n",
       "21  2000  115.060274\n",
       "22  2001  115.191781\n",
       "23  2002  114.608219\n",
       "24  2003  114.591781\n",
       "25  2004  114.819178\n",
       "26  2006  117.027397\n",
       "27  2007  115.504110\n",
       "28  2008  115.679452\n",
       "29  2009  115.509589\n",
       "30  2010  115.054795\n",
       "31  2011  115.024658\n",
       "32  2012  115.780822\n",
       "33  2013  116.224658\n",
       "34  2015  117.150685\n",
       "35  2016  116.528767\n",
       "36  2017  117.597260\n",
       "37  2018  117.791781\n",
       "38  2019  116.246575\n",
       "39  2020  115.126027"
      ]
     },
     "execution_count": 21,
     "metadata": {},
     "output_type": "execute_result"
    }
   ],
   "source": [
    "oldest = pd.read_csv('GDP_data/life_cap.csv')\n",
    "oldest"
   ]
  },
  {
   "cell_type": "code",
   "execution_count": 22,
   "metadata": {},
   "outputs": [
    {
     "data": {
      "image/png": "[encoded data removed]",
      "text/plain": [
       "<Figure size 432x288 with 1 Axes>"
      ]
     },
     "metadata": {
      "needs_background": "light"
     },
     "output_type": "display_data"
    }
   ],
   "source": [
    "# Make a line plot\n",
    "sns.lineplot(data=oldest, x='year', y='age')\n",
    "plt.title('Life Expectancy at Birth')\n",
    "plt.ylabel('Years')\n",
    "plt.xlabel('Year')\n",
    "plt.show()\n",
    "\n"
   ]
  },
  {
   "cell_type": "code",
   "execution_count": 23,
   "metadata": {},
   "outputs": [
    {
     "data": {
      "text/html": [
       "<div>\n",
       "<style scoped>\n",
       "    .dataframe tbody tr th:only-of-type {\n",
       "        vertical-align: middle;\n",
       "    }\n",
       "\n",
       "    .dataframe tbody tr th {\n",
       "        vertical-align: top;\n",
       "    }\n",
       "\n",
       "    .dataframe thead th {\n",
       "        text-align: right;\n",
       "    }\n",
       "</style>\n",
       "<table border=\"1\" class=\"dataframe\">\n",
       "  <thead>\n",
       "    <tr style=\"text-align: right;\">\n",
       "      <th></th>\n",
       "      <th>code</th>\n",
       "      <th>region</th>\n",
       "      <th>year</th>\n",
       "      <th>age</th>\n",
       "    </tr>\n",
       "  </thead>\n",
       "  <tbody>\n",
       "    <tr>\n",
       "      <th>0</th>\n",
       "      <td>WLD</td>\n",
       "      <td>World</td>\n",
       "      <td>1964</td>\n",
       "      <td>56.013359</td>\n",
       "    </tr>\n",
       "    <tr>\n",
       "      <th>1</th>\n",
       "      <td>WLD</td>\n",
       "      <td>World</td>\n",
       "      <td>1965</td>\n",
       "      <td>55.838022</td>\n",
       "    </tr>\n",
       "    <tr>\n",
       "      <th>2</th>\n",
       "      <td>WLD</td>\n",
       "      <td>World</td>\n",
       "      <td>1966</td>\n",
       "      <td>56.372220</td>\n",
       "    </tr>\n",
       "    <tr>\n",
       "      <th>3</th>\n",
       "      <td>WLD</td>\n",
       "      <td>World</td>\n",
       "      <td>1967</td>\n",
       "      <td>56.771541</td>\n",
       "    </tr>\n",
       "    <tr>\n",
       "      <th>4</th>\n",
       "      <td>WLD</td>\n",
       "      <td>World</td>\n",
       "      <td>1968</td>\n",
       "      <td>57.208288</td>\n",
       "    </tr>\n",
       "    <tr>\n",
       "      <th>5</th>\n",
       "      <td>WLD</td>\n",
       "      <td>World</td>\n",
       "      <td>1969</td>\n",
       "      <td>57.518751</td>\n",
       "    </tr>\n",
       "    <tr>\n",
       "      <th>6</th>\n",
       "      <td>WLD</td>\n",
       "      <td>World</td>\n",
       "      <td>1970</td>\n",
       "      <td>57.824756</td>\n",
       "    </tr>\n",
       "    <tr>\n",
       "      <th>7</th>\n",
       "      <td>WLD</td>\n",
       "      <td>World</td>\n",
       "      <td>1971</td>\n",
       "      <td>57.950919</td>\n",
       "    </tr>\n",
       "    <tr>\n",
       "      <th>8</th>\n",
       "      <td>WLD</td>\n",
       "      <td>World</td>\n",
       "      <td>1972</td>\n",
       "      <td>58.786966</td>\n",
       "    </tr>\n",
       "    <tr>\n",
       "      <th>9</th>\n",
       "      <td>WLD</td>\n",
       "      <td>World</td>\n",
       "      <td>1973</td>\n",
       "      <td>59.292074</td>\n",
       "    </tr>\n",
       "    <tr>\n",
       "      <th>10</th>\n",
       "      <td>WLD</td>\n",
       "      <td>World</td>\n",
       "      <td>1974</td>\n",
       "      <td>59.718189</td>\n",
       "    </tr>\n",
       "    <tr>\n",
       "      <th>11</th>\n",
       "      <td>WLD</td>\n",
       "      <td>World</td>\n",
       "      <td>1975</td>\n",
       "      <td>60.173650</td>\n",
       "    </tr>\n",
       "    <tr>\n",
       "      <th>12</th>\n",
       "      <td>WLD</td>\n",
       "      <td>World</td>\n",
       "      <td>1976</td>\n",
       "      <td>60.632614</td>\n",
       "    </tr>\n",
       "    <tr>\n",
       "      <th>13</th>\n",
       "      <td>WLD</td>\n",
       "      <td>World</td>\n",
       "      <td>1977</td>\n",
       "      <td>61.124721</td>\n",
       "    </tr>\n",
       "    <tr>\n",
       "      <th>14</th>\n",
       "      <td>WLD</td>\n",
       "      <td>World</td>\n",
       "      <td>1978</td>\n",
       "      <td>61.480960</td>\n",
       "    </tr>\n",
       "    <tr>\n",
       "      <th>15</th>\n",
       "      <td>WLD</td>\n",
       "      <td>World</td>\n",
       "      <td>1979</td>\n",
       "      <td>61.897242</td>\n",
       "    </tr>\n",
       "    <tr>\n",
       "      <th>16</th>\n",
       "      <td>WLD</td>\n",
       "      <td>World</td>\n",
       "      <td>1980</td>\n",
       "      <td>62.224853</td>\n",
       "    </tr>\n",
       "    <tr>\n",
       "      <th>17</th>\n",
       "      <td>WLD</td>\n",
       "      <td>World</td>\n",
       "      <td>1981</td>\n",
       "      <td>62.600910</td>\n",
       "    </tr>\n",
       "    <tr>\n",
       "      <th>18</th>\n",
       "      <td>WLD</td>\n",
       "      <td>World</td>\n",
       "      <td>1982</td>\n",
       "      <td>62.964322</td>\n",
       "    </tr>\n",
       "    <tr>\n",
       "      <th>19</th>\n",
       "      <td>WLD</td>\n",
       "      <td>World</td>\n",
       "      <td>1983</td>\n",
       "      <td>63.208138</td>\n",
       "    </tr>\n",
       "    <tr>\n",
       "      <th>20</th>\n",
       "      <td>WLD</td>\n",
       "      <td>World</td>\n",
       "      <td>1984</td>\n",
       "      <td>63.513304</td>\n",
       "    </tr>\n",
       "    <tr>\n",
       "      <th>21</th>\n",
       "      <td>WLD</td>\n",
       "      <td>World</td>\n",
       "      <td>1985</td>\n",
       "      <td>63.806677</td>\n",
       "    </tr>\n",
       "    <tr>\n",
       "      <th>22</th>\n",
       "      <td>WLD</td>\n",
       "      <td>World</td>\n",
       "      <td>1986</td>\n",
       "      <td>64.202346</td>\n",
       "    </tr>\n",
       "    <tr>\n",
       "      <th>23</th>\n",
       "      <td>WLD</td>\n",
       "      <td>World</td>\n",
       "      <td>1987</td>\n",
       "      <td>64.506735</td>\n",
       "    </tr>\n",
       "    <tr>\n",
       "      <th>24</th>\n",
       "      <td>WLD</td>\n",
       "      <td>World</td>\n",
       "      <td>1988</td>\n",
       "      <td>64.678904</td>\n",
       "    </tr>\n",
       "    <tr>\n",
       "      <th>25</th>\n",
       "      <td>WLD</td>\n",
       "      <td>World</td>\n",
       "      <td>1989</td>\n",
       "      <td>65.016769</td>\n",
       "    </tr>\n",
       "    <tr>\n",
       "      <th>26</th>\n",
       "      <td>WLD</td>\n",
       "      <td>World</td>\n",
       "      <td>1990</td>\n",
       "      <td>65.180880</td>\n",
       "    </tr>\n",
       "    <tr>\n",
       "      <th>27</th>\n",
       "      <td>WLD</td>\n",
       "      <td>World</td>\n",
       "      <td>1991</td>\n",
       "      <td>65.337919</td>\n",
       "    </tr>\n",
       "    <tr>\n",
       "      <th>28</th>\n",
       "      <td>WLD</td>\n",
       "      <td>World</td>\n",
       "      <td>1992</td>\n",
       "      <td>65.590102</td>\n",
       "    </tr>\n",
       "    <tr>\n",
       "      <th>29</th>\n",
       "      <td>WLD</td>\n",
       "      <td>World</td>\n",
       "      <td>1993</td>\n",
       "      <td>65.773234</td>\n",
       "    </tr>\n",
       "    <tr>\n",
       "      <th>30</th>\n",
       "      <td>WLD</td>\n",
       "      <td>World</td>\n",
       "      <td>1994</td>\n",
       "      <td>66.017397</td>\n",
       "    </tr>\n",
       "    <tr>\n",
       "      <th>31</th>\n",
       "      <td>WLD</td>\n",
       "      <td>World</td>\n",
       "      <td>1995</td>\n",
       "      <td>66.208368</td>\n",
       "    </tr>\n",
       "    <tr>\n",
       "      <th>32</th>\n",
       "      <td>WLD</td>\n",
       "      <td>World</td>\n",
       "      <td>1996</td>\n",
       "      <td>66.472549</td>\n",
       "    </tr>\n",
       "    <tr>\n",
       "      <th>33</th>\n",
       "      <td>WLD</td>\n",
       "      <td>World</td>\n",
       "      <td>1997</td>\n",
       "      <td>66.822256</td>\n",
       "    </tr>\n",
       "    <tr>\n",
       "      <th>34</th>\n",
       "      <td>WLD</td>\n",
       "      <td>World</td>\n",
       "      <td>1998</td>\n",
       "      <td>67.091340</td>\n",
       "    </tr>\n",
       "    <tr>\n",
       "      <th>35</th>\n",
       "      <td>WLD</td>\n",
       "      <td>World</td>\n",
       "      <td>1999</td>\n",
       "      <td>67.386535</td>\n",
       "    </tr>\n",
       "    <tr>\n",
       "      <th>36</th>\n",
       "      <td>WLD</td>\n",
       "      <td>World</td>\n",
       "      <td>2000</td>\n",
       "      <td>67.700054</td>\n",
       "    </tr>\n",
       "    <tr>\n",
       "      <th>37</th>\n",
       "      <td>WLD</td>\n",
       "      <td>World</td>\n",
       "      <td>2001</td>\n",
       "      <td>68.051799</td>\n",
       "    </tr>\n",
       "    <tr>\n",
       "      <th>38</th>\n",
       "      <td>WLD</td>\n",
       "      <td>World</td>\n",
       "      <td>2002</td>\n",
       "      <td>68.330379</td>\n",
       "    </tr>\n",
       "    <tr>\n",
       "      <th>39</th>\n",
       "      <td>WLD</td>\n",
       "      <td>World</td>\n",
       "      <td>2003</td>\n",
       "      <td>68.606811</td>\n",
       "    </tr>\n",
       "    <tr>\n",
       "      <th>40</th>\n",
       "      <td>WLD</td>\n",
       "      <td>World</td>\n",
       "      <td>2004</td>\n",
       "      <td>68.861700</td>\n",
       "    </tr>\n",
       "    <tr>\n",
       "      <th>41</th>\n",
       "      <td>WLD</td>\n",
       "      <td>World</td>\n",
       "      <td>2005</td>\n",
       "      <td>69.198393</td>\n",
       "    </tr>\n",
       "    <tr>\n",
       "      <th>42</th>\n",
       "      <td>WLD</td>\n",
       "      <td>World</td>\n",
       "      <td>2006</td>\n",
       "      <td>69.570187</td>\n",
       "    </tr>\n",
       "    <tr>\n",
       "      <th>43</th>\n",
       "      <td>WLD</td>\n",
       "      <td>World</td>\n",
       "      <td>2007</td>\n",
       "      <td>69.835268</td>\n",
       "    </tr>\n",
       "    <tr>\n",
       "      <th>44</th>\n",
       "      <td>WLD</td>\n",
       "      <td>World</td>\n",
       "      <td>2008</td>\n",
       "      <td>70.006083</td>\n",
       "    </tr>\n",
       "    <tr>\n",
       "      <th>45</th>\n",
       "      <td>WLD</td>\n",
       "      <td>World</td>\n",
       "      <td>2009</td>\n",
       "      <td>70.401378</td>\n",
       "    </tr>\n",
       "    <tr>\n",
       "      <th>46</th>\n",
       "      <td>WLD</td>\n",
       "      <td>World</td>\n",
       "      <td>2010</td>\n",
       "      <td>70.670617</td>\n",
       "    </tr>\n",
       "    <tr>\n",
       "      <th>47</th>\n",
       "      <td>WLD</td>\n",
       "      <td>World</td>\n",
       "      <td>2011</td>\n",
       "      <td>71.007857</td>\n",
       "    </tr>\n",
       "    <tr>\n",
       "      <th>48</th>\n",
       "      <td>WLD</td>\n",
       "      <td>World</td>\n",
       "      <td>2012</td>\n",
       "      <td>71.284069</td>\n",
       "    </tr>\n",
       "    <tr>\n",
       "      <th>49</th>\n",
       "      <td>WLD</td>\n",
       "      <td>World</td>\n",
       "      <td>2013</td>\n",
       "      <td>71.577412</td>\n",
       "    </tr>\n",
       "    <tr>\n",
       "      <th>50</th>\n",
       "      <td>WLD</td>\n",
       "      <td>World</td>\n",
       "      <td>2014</td>\n",
       "      <td>71.881454</td>\n",
       "    </tr>\n",
       "    <tr>\n",
       "      <th>51</th>\n",
       "      <td>WLD</td>\n",
       "      <td>World</td>\n",
       "      <td>2015</td>\n",
       "      <td>72.095501</td>\n",
       "    </tr>\n",
       "    <tr>\n",
       "      <th>52</th>\n",
       "      <td>WLD</td>\n",
       "      <td>World</td>\n",
       "      <td>2016</td>\n",
       "      <td>72.345221</td>\n",
       "    </tr>\n",
       "    <tr>\n",
       "      <th>53</th>\n",
       "      <td>WLD</td>\n",
       "      <td>World</td>\n",
       "      <td>2017</td>\n",
       "      <td>72.543044</td>\n",
       "    </tr>\n",
       "    <tr>\n",
       "      <th>54</th>\n",
       "      <td>WLD</td>\n",
       "      <td>World</td>\n",
       "      <td>2018</td>\n",
       "      <td>72.785237</td>\n",
       "    </tr>\n",
       "    <tr>\n",
       "      <th>55</th>\n",
       "      <td>WLD</td>\n",
       "      <td>World</td>\n",
       "      <td>2019</td>\n",
       "      <td>72.976850</td>\n",
       "    </tr>\n",
       "    <tr>\n",
       "      <th>56</th>\n",
       "      <td>WLD</td>\n",
       "      <td>World</td>\n",
       "      <td>2020</td>\n",
       "      <td>72.265011</td>\n",
       "    </tr>\n",
       "  </tbody>\n",
       "</table>\n",
       "</div>"
      ],
      "text/plain": [
       "   code region  year        age\n",
       "0   WLD  World  1964  56.013359\n",
       "1   WLD  World  1965  55.838022\n",
       "2   WLD  World  1966  56.372220\n",
       "3   WLD  World  1967  56.771541\n",
       "4   WLD  World  1968  57.208288\n",
       "5   WLD  World  1969  57.518751\n",
       "6   WLD  World  1970  57.824756\n",
       "7   WLD  World  1971  57.950919\n",
       "8   WLD  World  1972  58.786966\n",
       "9   WLD  World  1973  59.292074\n",
       "10  WLD  World  1974  59.718189\n",
       "11  WLD  World  1975  60.173650\n",
       "12  WLD  World  1976  60.632614\n",
       "13  WLD  World  1977  61.124721\n",
       "14  WLD  World  1978  61.480960\n",
       "15  WLD  World  1979  61.897242\n",
       "16  WLD  World  1980  62.224853\n",
       "17  WLD  World  1981  62.600910\n",
       "18  WLD  World  1982  62.964322\n",
       "19  WLD  World  1983  63.208138\n",
       "20  WLD  World  1984  63.513304\n",
       "21  WLD  World  1985  63.806677\n",
       "22  WLD  World  1986  64.202346\n",
       "23  WLD  World  1987  64.506735\n",
       "24  WLD  World  1988  64.678904\n",
       "25  WLD  World  1989  65.016769\n",
       "26  WLD  World  1990  65.180880\n",
       "27  WLD  World  1991  65.337919\n",
       "28  WLD  World  1992  65.590102\n",
       "29  WLD  World  1993  65.773234\n",
       "30  WLD  World  1994  66.017397\n",
       "31  WLD  World  1995  66.208368\n",
       "32  WLD  World  1996  66.472549\n",
       "33  WLD  World  1997  66.822256\n",
       "34  WLD  World  1998  67.091340\n",
       "35  WLD  World  1999  67.386535\n",
       "36  WLD  World  2000  67.700054\n",
       "37  WLD  World  2001  68.051799\n",
       "38  WLD  World  2002  68.330379\n",
       "39  WLD  World  2003  68.606811\n",
       "40  WLD  World  2004  68.861700\n",
       "41  WLD  World  2005  69.198393\n",
       "42  WLD  World  2006  69.570187\n",
       "43  WLD  World  2007  69.835268\n",
       "44  WLD  World  2008  70.006083\n",
       "45  WLD  World  2009  70.401378\n",
       "46  WLD  World  2010  70.670617\n",
       "47  WLD  World  2011  71.007857\n",
       "48  WLD  World  2012  71.284069\n",
       "49  WLD  World  2013  71.577412\n",
       "50  WLD  World  2014  71.881454\n",
       "51  WLD  World  2015  72.095501\n",
       "52  WLD  World  2016  72.345221\n",
       "53  WLD  World  2017  72.543044\n",
       "54  WLD  World  2018  72.785237\n",
       "55  WLD  World  2019  72.976850\n",
       "56  WLD  World  2020  72.265011"
      ]
     },
     "execution_count": 23,
     "metadata": {},
     "output_type": "execute_result"
    }
   ],
   "source": [
    "life_ex_df = pd.read_csv('GDP_data/life_expectancy_by_country.csv')\n",
    "life_ex_df"
   ]
  },
  {
   "cell_type": "code",
   "execution_count": 31,
   "metadata": {},
   "outputs": [
    {
     "data": {
      "image/png": "[encoded data removed]",
      "text/plain": [
       "<Figure size 432x288 with 1 Axes>"
      ]
     },
     "metadata": {},
     "output_type": "display_data"
    }
   ],
   "source": [
    "# make line plot in with both lines of oldest and life_ex_df\n",
    "# set sns theme\n",
    "sns.set_theme(style=\"darkgrid\")\n",
    "sns.lineplot(data=oldest, x='year', y='age', color = \"green\")\n",
    "sns.lineplot(data=life_ex_df, x='year', y='age', color = \"red\")\n",
    "plt.title('Oldest Person Alive vs. Life Expectancy at Birth (world)')\n",
    "plt.ylabel('Age')\n",
    "plt.xlabel('Year')\n",
    "plt.legend(['Age of Oldest Person', 'Life Expectancy'])\n",
    "plt.show()\n",
    "\n",
    "ASDASDASD TOP 10 PERCENTILE!\n"
   ]
  },
  {
   "cell_type": "code",
   "execution_count": 1,
   "metadata": {},
   "outputs": [],
   "source": [
    "import pandas as pd\n",
    "\n",
    "time_use = pd.read_excel('data/Time-Use-in-OECD-Countries-OECD.xlsx')\n",
    "\n",
    "# Only get rows that are USA, Japan, Germany and Italy\n",
    "\n",
    "time_use = time_use[time_use['Country'].isin(['USA', 'Japan', 'Germany', 'Italy '])]"
   ]
  },
  {
   "cell_type": "code",
   "execution_count": 18,
   "metadata": {},
   "outputs": [
    {
     "data": {
      "text/html": [
       "<div>\n",
       "<style scoped>\n",
       "    .dataframe tbody tr th:only-of-type {\n",
       "        vertical-align: middle;\n",
       "    }\n",
       "\n",
       "    .dataframe tbody tr th {\n",
       "        vertical-align: top;\n",
       "    }\n",
       "\n",
       "    .dataframe thead th {\n",
       "        text-align: right;\n",
       "    }\n",
       "</style>\n",
       "<table border=\"1\" class=\"dataframe\">\n",
       "  <thead>\n",
       "    <tr style=\"text-align: right;\">\n",
       "      <th></th>\n",
       "      <th>Country</th>\n",
       "      <th>Category</th>\n",
       "      <th>Time (minutes)</th>\n",
       "    </tr>\n",
       "  </thead>\n",
       "  <tbody>\n",
       "    <tr>\n",
       "      <th>8</th>\n",
       "      <td>Germany</td>\n",
       "      <td>Paid work</td>\n",
       "      <td>223.839012</td>\n",
       "    </tr>\n",
       "    <tr>\n",
       "      <th>12</th>\n",
       "      <td>Italy</td>\n",
       "      <td>Paid work</td>\n",
       "      <td>148.894552</td>\n",
       "    </tr>\n",
       "    <tr>\n",
       "      <th>13</th>\n",
       "      <td>Japan</td>\n",
       "      <td>Paid work</td>\n",
       "      <td>325.711372</td>\n",
       "    </tr>\n",
       "    <tr>\n",
       "      <th>29</th>\n",
       "      <td>USA</td>\n",
       "      <td>Paid work</td>\n",
       "      <td>251.137774</td>\n",
       "    </tr>\n",
       "    <tr>\n",
       "      <th>41</th>\n",
       "      <td>Germany</td>\n",
       "      <td>Education</td>\n",
       "      <td>24.042137</td>\n",
       "    </tr>\n",
       "    <tr>\n",
       "      <th>45</th>\n",
       "      <td>Italy</td>\n",
       "      <td>Education</td>\n",
       "      <td>27.814506</td>\n",
       "    </tr>\n",
       "    <tr>\n",
       "      <th>46</th>\n",
       "      <td>Japan</td>\n",
       "      <td>Education</td>\n",
       "      <td>36.980000</td>\n",
       "    </tr>\n",
       "    <tr>\n",
       "      <th>62</th>\n",
       "      <td>USA</td>\n",
       "      <td>Education</td>\n",
       "      <td>31.418910</td>\n",
       "    </tr>\n",
       "    <tr>\n",
       "      <th>74</th>\n",
       "      <td>Germany</td>\n",
       "      <td>Care for household members</td>\n",
       "      <td>18.901665</td>\n",
       "    </tr>\n",
       "    <tr>\n",
       "      <th>78</th>\n",
       "      <td>Italy</td>\n",
       "      <td>Care for household members</td>\n",
       "      <td>26.621509</td>\n",
       "    </tr>\n",
       "    <tr>\n",
       "      <th>79</th>\n",
       "      <td>Japan</td>\n",
       "      <td>Care for household members</td>\n",
       "      <td>0.000000</td>\n",
       "    </tr>\n",
       "    <tr>\n",
       "      <th>95</th>\n",
       "      <td>USA</td>\n",
       "      <td>Care for household members</td>\n",
       "      <td>30.618280</td>\n",
       "    </tr>\n",
       "    <tr>\n",
       "      <th>107</th>\n",
       "      <td>Germany</td>\n",
       "      <td>Housework</td>\n",
       "      <td>109.354200</td>\n",
       "    </tr>\n",
       "    <tr>\n",
       "      <th>111</th>\n",
       "      <td>Italy</td>\n",
       "      <td>Housework</td>\n",
       "      <td>134.714273</td>\n",
       "    </tr>\n",
       "    <tr>\n",
       "      <th>112</th>\n",
       "      <td>Japan</td>\n",
       "      <td>Housework</td>\n",
       "      <td>80.370473</td>\n",
       "    </tr>\n",
       "    <tr>\n",
       "      <th>128</th>\n",
       "      <td>USA</td>\n",
       "      <td>Housework</td>\n",
       "      <td>99.900520</td>\n",
       "    </tr>\n",
       "    <tr>\n",
       "      <th>140</th>\n",
       "      <td>Germany</td>\n",
       "      <td>Shopping</td>\n",
       "      <td>32.090467</td>\n",
       "    </tr>\n",
       "    <tr>\n",
       "      <th>144</th>\n",
       "      <td>Italy</td>\n",
       "      <td>Shopping</td>\n",
       "      <td>27.742728</td>\n",
       "    </tr>\n",
       "    <tr>\n",
       "      <th>145</th>\n",
       "      <td>Japan</td>\n",
       "      <td>Shopping</td>\n",
       "      <td>24.928908</td>\n",
       "    </tr>\n",
       "    <tr>\n",
       "      <th>161</th>\n",
       "      <td>USA</td>\n",
       "      <td>Shopping</td>\n",
       "      <td>22.013280</td>\n",
       "    </tr>\n",
       "    <tr>\n",
       "      <th>173</th>\n",
       "      <td>Germany</td>\n",
       "      <td>Other unpaid work &amp; volunteering</td>\n",
       "      <td>52.598188</td>\n",
       "    </tr>\n",
       "    <tr>\n",
       "      <th>177</th>\n",
       "      <td>Italy</td>\n",
       "      <td>Other unpaid work &amp; volunteering</td>\n",
       "      <td>43.145597</td>\n",
       "    </tr>\n",
       "    <tr>\n",
       "      <th>178</th>\n",
       "      <td>Japan</td>\n",
       "      <td>Other unpaid work &amp; volunteering</td>\n",
       "      <td>97.724183</td>\n",
       "    </tr>\n",
       "    <tr>\n",
       "      <th>194</th>\n",
       "      <td>USA</td>\n",
       "      <td>Other unpaid work &amp; volunteering</td>\n",
       "      <td>65.190475</td>\n",
       "    </tr>\n",
       "    <tr>\n",
       "      <th>206</th>\n",
       "      <td>Germany</td>\n",
       "      <td>Sleep</td>\n",
       "      <td>498.381500</td>\n",
       "    </tr>\n",
       "    <tr>\n",
       "      <th>210</th>\n",
       "      <td>Italy</td>\n",
       "      <td>Sleep</td>\n",
       "      <td>513.320886</td>\n",
       "    </tr>\n",
       "    <tr>\n",
       "      <th>211</th>\n",
       "      <td>Japan</td>\n",
       "      <td>Sleep</td>\n",
       "      <td>442.020938</td>\n",
       "    </tr>\n",
       "    <tr>\n",
       "      <th>227</th>\n",
       "      <td>USA</td>\n",
       "      <td>Sleep</td>\n",
       "      <td>528.019500</td>\n",
       "    </tr>\n",
       "    <tr>\n",
       "      <th>239</th>\n",
       "      <td>Germany</td>\n",
       "      <td>Eating and drinking</td>\n",
       "      <td>94.963150</td>\n",
       "    </tr>\n",
       "    <tr>\n",
       "      <th>243</th>\n",
       "      <td>Italy</td>\n",
       "      <td>Eating and drinking</td>\n",
       "      <td>126.974855</td>\n",
       "    </tr>\n",
       "    <tr>\n",
       "      <th>244</th>\n",
       "      <td>Japan</td>\n",
       "      <td>Eating and drinking</td>\n",
       "      <td>93.454218</td>\n",
       "    </tr>\n",
       "    <tr>\n",
       "      <th>260</th>\n",
       "      <td>USA</td>\n",
       "      <td>Eating and drinking</td>\n",
       "      <td>62.747670</td>\n",
       "    </tr>\n",
       "    <tr>\n",
       "      <th>272</th>\n",
       "      <td>Germany</td>\n",
       "      <td>Personal care</td>\n",
       "      <td>54.677883</td>\n",
       "    </tr>\n",
       "    <tr>\n",
       "      <th>276</th>\n",
       "      <td>Italy</td>\n",
       "      <td>Personal care</td>\n",
       "      <td>67.512477</td>\n",
       "    </tr>\n",
       "    <tr>\n",
       "      <th>277</th>\n",
       "      <td>Japan</td>\n",
       "      <td>Personal care</td>\n",
       "      <td>84.562961</td>\n",
       "    </tr>\n",
       "    <tr>\n",
       "      <th>293</th>\n",
       "      <td>USA</td>\n",
       "      <td>Personal care</td>\n",
       "      <td>57.438510</td>\n",
       "    </tr>\n",
       "    <tr>\n",
       "      <th>305</th>\n",
       "      <td>Germany</td>\n",
       "      <td>Sports</td>\n",
       "      <td>26.435250</td>\n",
       "    </tr>\n",
       "    <tr>\n",
       "      <th>309</th>\n",
       "      <td>Italy</td>\n",
       "      <td>Sports</td>\n",
       "      <td>38.214086</td>\n",
       "    </tr>\n",
       "    <tr>\n",
       "      <th>310</th>\n",
       "      <td>Japan</td>\n",
       "      <td>Sports</td>\n",
       "      <td>10.222600</td>\n",
       "    </tr>\n",
       "    <tr>\n",
       "      <th>326</th>\n",
       "      <td>USA</td>\n",
       "      <td>Sports</td>\n",
       "      <td>17.946540</td>\n",
       "    </tr>\n",
       "    <tr>\n",
       "      <th>338</th>\n",
       "      <td>Germany</td>\n",
       "      <td>Attending events</td>\n",
       "      <td>13.528252</td>\n",
       "    </tr>\n",
       "    <tr>\n",
       "      <th>342</th>\n",
       "      <td>Italy</td>\n",
       "      <td>Attending events</td>\n",
       "      <td>5.823313</td>\n",
       "    </tr>\n",
       "    <tr>\n",
       "      <th>358</th>\n",
       "      <td>USA</td>\n",
       "      <td>Attending events</td>\n",
       "      <td>8.225513</td>\n",
       "    </tr>\n",
       "    <tr>\n",
       "      <th>370</th>\n",
       "      <td>Germany</td>\n",
       "      <td>Seeing friends</td>\n",
       "      <td>60.646950</td>\n",
       "    </tr>\n",
       "    <tr>\n",
       "      <th>374</th>\n",
       "      <td>Italy</td>\n",
       "      <td>Seeing friends</td>\n",
       "      <td>65.357207</td>\n",
       "    </tr>\n",
       "    <tr>\n",
       "      <th>375</th>\n",
       "      <td>Japan</td>\n",
       "      <td>Seeing friends</td>\n",
       "      <td>16.912066</td>\n",
       "    </tr>\n",
       "    <tr>\n",
       "      <th>391</th>\n",
       "      <td>USA</td>\n",
       "      <td>Seeing friends</td>\n",
       "      <td>43.543680</td>\n",
       "    </tr>\n",
       "    <tr>\n",
       "      <th>403</th>\n",
       "      <td>Germany</td>\n",
       "      <td>TV and Radio</td>\n",
       "      <td>118.465100</td>\n",
       "    </tr>\n",
       "    <tr>\n",
       "      <th>407</th>\n",
       "      <td>Italy</td>\n",
       "      <td>TV and Radio</td>\n",
       "      <td>103.692722</td>\n",
       "    </tr>\n",
       "    <tr>\n",
       "      <th>408</th>\n",
       "      <td>Japan</td>\n",
       "      <td>TV and Radio</td>\n",
       "      <td>103.224657</td>\n",
       "    </tr>\n",
       "    <tr>\n",
       "      <th>424</th>\n",
       "      <td>USA</td>\n",
       "      <td>TV and Radio</td>\n",
       "      <td>148.308400</td>\n",
       "    </tr>\n",
       "    <tr>\n",
       "      <th>436</th>\n",
       "      <td>Germany</td>\n",
       "      <td>Other leisure activities</td>\n",
       "      <td>112.076283</td>\n",
       "    </tr>\n",
       "    <tr>\n",
       "      <th>440</th>\n",
       "      <td>Italy</td>\n",
       "      <td>Other leisure activities</td>\n",
       "      <td>110.171290</td>\n",
       "    </tr>\n",
       "    <tr>\n",
       "      <th>441</th>\n",
       "      <td>Japan</td>\n",
       "      <td>Other leisure activities</td>\n",
       "      <td>147.953249</td>\n",
       "    </tr>\n",
       "    <tr>\n",
       "      <th>457</th>\n",
       "      <td>USA</td>\n",
       "      <td>Other leisure activities</td>\n",
       "      <td>73.490920</td>\n",
       "    </tr>\n",
       "  </tbody>\n",
       "</table>\n",
       "</div>"
      ],
      "text/plain": [
       "     Country                          Category  Time (minutes)\n",
       "8    Germany                         Paid work      223.839012\n",
       "12    Italy                          Paid work      148.894552\n",
       "13     Japan                         Paid work      325.711372\n",
       "29       USA                         Paid work      251.137774\n",
       "41   Germany                         Education       24.042137\n",
       "45    Italy                          Education       27.814506\n",
       "46     Japan                         Education       36.980000\n",
       "62       USA                         Education       31.418910\n",
       "74   Germany       Care for household members        18.901665\n",
       "78    Italy        Care for household members        26.621509\n",
       "79     Japan       Care for household members         0.000000\n",
       "95       USA       Care for household members        30.618280\n",
       "107  Germany                         Housework      109.354200\n",
       "111   Italy                          Housework      134.714273\n",
       "112    Japan                         Housework       80.370473\n",
       "128      USA                         Housework       99.900520\n",
       "140  Germany                          Shopping       32.090467\n",
       "144   Italy                           Shopping       27.742728\n",
       "145    Japan                          Shopping       24.928908\n",
       "161      USA                          Shopping       22.013280\n",
       "173  Germany  Other unpaid work & volunteering       52.598188\n",
       "177   Italy   Other unpaid work & volunteering       43.145597\n",
       "178    Japan  Other unpaid work & volunteering       97.724183\n",
       "194      USA  Other unpaid work & volunteering       65.190475\n",
       "206  Germany                             Sleep      498.381500\n",
       "210   Italy                              Sleep      513.320886\n",
       "211    Japan                             Sleep      442.020938\n",
       "227      USA                             Sleep      528.019500\n",
       "239  Germany               Eating and drinking       94.963150\n",
       "243   Italy                Eating and drinking      126.974855\n",
       "244    Japan               Eating and drinking       93.454218\n",
       "260      USA               Eating and drinking       62.747670\n",
       "272  Germany                     Personal care       54.677883\n",
       "276   Italy                      Personal care       67.512477\n",
       "277    Japan                     Personal care       84.562961\n",
       "293      USA                     Personal care       57.438510\n",
       "305  Germany                            Sports       26.435250\n",
       "309   Italy                             Sports       38.214086\n",
       "310    Japan                            Sports       10.222600\n",
       "326      USA                            Sports       17.946540\n",
       "338  Germany                  Attending events       13.528252\n",
       "342   Italy                   Attending events        5.823313\n",
       "358      USA                  Attending events        8.225513\n",
       "370  Germany                    Seeing friends       60.646950\n",
       "374   Italy                     Seeing friends       65.357207\n",
       "375    Japan                    Seeing friends       16.912066\n",
       "391      USA                    Seeing friends       43.543680\n",
       "403  Germany                      TV and Radio      118.465100\n",
       "407   Italy                       TV and Radio      103.692722\n",
       "408    Japan                      TV and Radio      103.224657\n",
       "424      USA                      TV and Radio      148.308400\n",
       "436  Germany          Other leisure activities      112.076283\n",
       "440   Italy           Other leisure activities      110.171290\n",
       "441    Japan          Other leisure activities      147.953249\n",
       "457      USA          Other leisure activities       73.490920"
      ]
     },
     "execution_count": 18,
     "metadata": {},
     "output_type": "execute_result"
    }
   ],
   "source": [
    "time_use"
   ]
  },
  {
   "cell_type": "code",
   "execution_count": 2,
   "metadata": {},
   "outputs": [
    {
     "data": {
      "image/png": "[encoded data removed]",
      "text/plain": [
       "<Figure size 540x252 with 1 Axes>"
      ]
     },
     "metadata": {
      "needs_background": "light"
     },
     "output_type": "display_data"
    }
   ],
   "source": [
    "from matplotlib import pyplot as plt\n",
    "plt.rcParams[\"figure.figsize\"] = [7.50, 3.50]\n",
    "plt.rcParams[\"figure.autolayout\"] = True\n",
    "\n",
    "countries = [\"Japan\", \"USA\", \"Germany\", \"Italy\"]\n",
    "paid_work = [(325.711372/1440)*100, (251.137774/1440)*100, (223.83901/1440)*100, (148.894552/1440)*100]\n",
    "education = [(36.980000/1440)*100, (31.418910/1440)*100, (24.042137/1440)*100, (27.814506/1440)*100]\n",
    "care_for_house_hold_members = [(0.000000/1440)*100, (30.618280/1440)*100, (18.901665/1440)*100, (26.621509/1440)*100]\n",
    "housework = [(80.370473/1440)*100, (99.900520/1440)*100, (109.354200/1440)*100, (134.714273/1440)*100]\n",
    "shopping = [(24.928908/1440)*100,(22.013280/1440)*100, (32.090467/1440)*100, (27.742728/1440)*100]\n",
    "other_paid_volunteer = [(97.724183/1440)*100, (65.190475/1440)*100, (52.598188/1440)*100, (43.145597/1440)*100]\n",
    "sleep = [(442.020938/1440)*100, (528.019500/1440)*100, (498.381500/1440)*100, (513.320886/1440)*100]\n",
    "eating_drinking = [(93.454218/1440)*100, (62.747670/1440)*100, (94.963150/1440)*100, (126.974855/1440)*100]\n",
    "personal_care = [(84.562961/1440)*100, (57.438510/1440)*100, (54.677883/1440)*100, (67.512477/1440)*100]\n",
    "sports = [(10.222600/1440)*100, (17.946540/1440)*100, (26.435250/1440)*100, (38.214086/1440)*100]\n",
    "attending_events = [(8.225513/1440)*100, (0/1440)*100, (13.528252/1440)*100, (5.823313/1440)*100]\n",
    "seeing_friends = [(16.912066/1440)*100, (43.543680/1440)*100, (60.646950/1440)*100, (65.357207/1440)*100]\n",
    "tv_radio = [(103.224657/1440)*100, (148.308400/1440)*100, (118.465100/1440)*100, (103.692722/1440)*100]\n",
    "other_leisure = [(147.953249/1440)*100, (73.490920/1440)*100+1, (112.076283/1440)*100, (110.171290/1440)*100]\n",
    "\n",
    "b1 = plt.barh(countries, paid_work, color=\"red\")\n",
    "\n",
    "#b2 = plt.barh(countries, education, left=paid_work, color=\"orange\")\n",
    "\n",
    "b3 = plt.barh(countries, sleep, left=education, color=\"grey\")\n",
    "\n",
    "plt.text(44, 0.26, 'TEMP', rotation=90)\n",
    "\n",
    "#b4 = plt.barh(countries, other_paid_volunteer, left=sleep, color=\"darkgoldenrod\")\n",
    "\n",
    "#b5 = plt.barh(countries, care_for_house_hold_members, left=other_paid_volunteer, color=\"gold\")\n",
    "\n",
    "#b6 = plt.barh(countries, housework, left=care_for_house_hold_members, color=\"slateblue\")\n",
    "\n",
    "#b7 = plt.barh(countries, shopping, left=care_for_house_hold_members, color=\"darkslateblue\")\n",
    "\n",
    "#b8 = plt.barh(countries, personal_care, left=shopping, color=\"yellow\")\n",
    "\n",
    "#b9 = plt.barh(countries, eating_drinking, left=personal_care, color=\"green\")\n",
    "\n",
    "#b10 = plt.barh(countries, tv_radio, left=eating_drinking, color=\"navy\")\n",
    "\n",
    "#b11 = plt.barh(countries, seeing_friends, left=tv_radio, color=\"darkgray\")\n",
    "\n",
    "#b12 = plt.barh(countries, sports, left=seeing_friends, color=\"black\")\n",
    "\n",
    "#b13 = plt.barh(countries, attending_events, left=sports, color=\"darkblue\")\n",
    "\n",
    "#b14 = plt.barh(countries, other_leisure, left=attending_events, color=\"blue\")\n",
    "\n",
    "#plt.legend([b1, b2, b3, b4, b5, b6, b7, b8, b9, b10, b11, b12, b13, b14], [\"Completed\", \"Pending\"], title=\"Issues\", loc=\"upper right\")\n",
    "#plt.xlim(0, 700)\n",
    "plt.show()"
   ]
  },
  {
   "cell_type": "code",
   "execution_count": 19,
   "metadata": {},
   "outputs": [
    {
     "data": {
      "application/vnd.plotly.v1+json": {
       "config": {
        "plotlyServerURL": "https://plot.ly"
       },
       "data": [
        {
         "legendrank": 14,
         "marker": {
          "color": "red",
          "line": {
           "color": "red",
           "width": 3
          }
         },
         "name": "Paid Work",
         "orientation": "h",
         "textfont": {
          "color": "white"
         },
         "type": "bar",
         "x": [
          22.618845277777776,
          17.440123194444446,
          15.544375694444446,
          10.339899444444445
         ],
         "y": [
          "Japan",
          "USA",
          "Germany",
          "Italy"
         ]
        },
        {
         "legendrank": 13,
         "marker": {
          "color": "orange",
          "line": {
           "color": "orange",
           "width": 3
          }
         },
         "name": "Education",
         "orientation": "h",
         "textfont": {
          "color": "white"
         },
         "type": "bar",
         "x": [
          2.5680555555555555,
          2.18186875,
          1.6695928472222221,
          1.9315629166666668
         ],
         "y": [
          "Japan",
          "USA",
          "Germany",
          "Italy"
         ]
        },
        {
         "legendrank": 12,
         "marker": {
          "color": "grey",
          "line": {
           "color": "grey",
           "width": 3
          }
         },
         "name": "Sleep",
         "orientation": "h",
         "textfont": {
          "color": "white"
         },
         "type": "bar",
         "x": [
          30.695898472222222,
          36.66802083333333,
          34.60982638888889,
          35.64728375
         ],
         "y": [
          "Japan",
          "USA",
          "Germany",
          "Italy"
         ]
        },
        {
         "legendrank": 11,
         "marker": {
          "color": "darkgoldenrod",
          "line": {
           "color": "darkgoldenrod",
           "width": 3
          }
         },
         "name": "Unpaid/volunteer Work",
         "orientation": "h",
         "textfont": {
          "color": "white"
         },
         "type": "bar",
         "x": [
          6.786401597222222,
          4.527116319444445,
          3.6526519444444445,
          2.996222013888889
         ],
         "y": [
          "Japan",
          "USA",
          "Germany",
          "Italy"
         ]
        },
        {
         "legendrank": 10,
         "marker": {
          "color": "gold",
          "line": {
           "color": "gold",
           "width": 3
          }
         },
         "name": "Care for House Hold Members",
         "orientation": "h",
         "textfont": {
          "color": "white"
         },
         "type": "bar",
         "x": [
          0,
          2.1262694444444445,
          1.312615625,
          1.8487159027777775
         ],
         "y": [
          "Japan",
          "USA",
          "Germany",
          "Italy"
         ]
        },
        {
         "legendrank": 9,
         "marker": {
          "color": "slateblue",
          "line": {
           "color": "slateblue",
           "width": 3
          }
         },
         "name": "Housework",
         "orientation": "h",
         "textfont": {
          "color": "white"
         },
         "type": "bar",
         "x": [
          5.581282847222223,
          6.937536111111112,
          7.5940416666666675,
          9.355157847222221
         ],
         "y": [
          "Japan",
          "USA",
          "Germany",
          "Italy"
         ]
        },
        {
         "legendrank": 8,
         "marker": {
          "color": "darkslateblue",
          "line": {
           "color": "darkslateblue",
           "width": 3
          }
         },
         "name": "Shopping",
         "orientation": "h",
         "textfont": {
          "color": "white"
         },
         "type": "bar",
         "x": [
          1.7311741666666665,
          1.5287000000000002,
          2.2285046527777777,
          1.9265783333333335
         ],
         "y": [
          "Japan",
          "USA",
          "Germany",
          "Italy"
         ]
        },
        {
         "legendrank": 7,
         "marker": {
          "color": "yellow",
          "line": {
           "color": "yellow",
           "width": 3
          }
         },
         "name": "Personal Care",
         "orientation": "h",
         "textfont": {
          "color": "white"
         },
         "type": "bar",
         "x": [
          5.872427847222222,
          3.9887854166666665,
          3.7970752083333337,
          4.688366458333334
         ],
         "y": [
          "Japan",
          "USA",
          "Germany",
          "Italy"
         ]
        },
        {
         "legendrank": 6,
         "marker": {
          "color": "green",
          "line": {
           "color": "green",
           "width": 3
          }
         },
         "name": "Eating/Drinking",
         "orientation": "h",
         "textfont": {
          "color": "white"
         },
         "type": "bar",
         "x": [
          6.48987625,
          4.357477083333333,
          6.594663194444444,
          8.81769826388889
         ],
         "y": [
          "Japan",
          "USA",
          "Germany",
          "Italy"
         ]
        },
        {
         "legendrank": 5,
         "marker": {
          "color": "navy",
          "line": {
           "color": "navy",
           "width": 3
          }
         },
         "name": "TV/radio",
         "orientation": "h",
         "textfont": {
          "color": "white"
         },
         "type": "bar",
         "x": [
          7.168378958333332,
          10.299194444444446,
          8.226743055555556,
          7.200883472222222
         ],
         "y": [
          "Japan",
          "USA",
          "Germany",
          "Italy"
         ]
        },
        {
         "legendrank": 4,
         "marker": {
          "color": "darkgray",
          "line": {
           "color": "darkgray",
           "width": 3
          }
         },
         "name": "Seeing Friends",
         "orientation": "h",
         "textfont": {
          "color": "white"
         },
         "type": "bar",
         "x": [
          1.1744490277777777,
          3.0238666666666667,
          4.21159375,
          4.538694930555556
         ],
         "y": [
          "Japan",
          "USA",
          "Germany",
          "Italy"
         ]
        },
        {
         "legendrank": 3,
         "marker": {
          "color": "black",
          "line": {
           "color": "black",
           "width": 3
          }
         },
         "name": "Sports",
         "orientation": "h",
         "textfont": {
          "color": "white"
         },
         "type": "bar",
         "x": [
          0.7099027777777778,
          1.2462875,
          1.8357812500000001,
          2.653755972222222
         ],
         "y": [
          "Japan",
          "USA",
          "Germany",
          "Italy"
         ]
        },
        {
         "legendrank": 2,
         "marker": {
          "color": "skyblue",
          "line": {
           "color": "skyblue",
           "width": 3
          }
         },
         "name": "Attending Events",
         "orientation": "h",
         "textfont": {
          "color": "white"
         },
         "type": "bar",
         "x": [
          0.5712161805555555,
          0,
          0.9394619444444444,
          0.40439673611111104
         ],
         "y": [
          "Japan",
          "USA",
          "Germany",
          "Italy"
         ]
        },
        {
         "legendrank": 1,
         "marker": {
          "color": "purple",
          "line": {
           "color": "purple",
           "width": 3
          }
         },
         "name": "Other Leisure",
         "orientation": "h",
         "textfont": {
          "color": "white"
         },
         "type": "bar",
         "x": [
          10.274531180555556,
          6.1035361111111115,
          7.783075208333333,
          7.650784027777778
         ],
         "y": [
          "Japan",
          "USA",
          "Germany",
          "Italy"
         ]
        },
        {
         "mode": "text",
         "name": "Sleep",
         "showlegend": false,
         "text": [
          "7hr 22min"
         ],
         "textfont": {
          "color": "white"
         },
         "textposition": "middle center",
         "type": "scatter",
         "x": [
          35
         ],
         "y": [
          "Japan"
         ]
        },
        {
         "mode": "text",
         "name": "Sleep",
         "showlegend": false,
         "text": [
          "8hr 48min"
         ],
         "textfont": {
          "color": "white"
         },
         "textposition": "middle center",
         "type": "scatter",
         "x": [
          35
         ],
         "y": [
          "USA"
         ]
        },
        {
         "mode": "text",
         "name": "Sleep",
         "showlegend": false,
         "text": [
          "8hr 18min"
         ],
         "textfont": {
          "color": "white"
         },
         "textposition": "middle center",
         "type": "scatter",
         "x": [
          35
         ],
         "y": [
          "Germany"
         ]
        },
        {
         "mode": "text",
         "name": "Sleep",
         "showlegend": false,
         "text": [
          "8hr 33min"
         ],
         "textfont": {
          "color": "white"
         },
         "textposition": "middle center",
         "type": "scatter",
         "x": [
          35
         ],
         "y": [
          "Italy"
         ]
        },
        {
         "mode": "text",
         "name": "Paid Work",
         "showlegend": false,
         "text": [
          "326min"
         ],
         "textfont": {
          "color": "white"
         },
         "textposition": "middle center",
         "type": "scatter",
         "x": [
          7.7
         ],
         "y": [
          "Japan"
         ]
        },
        {
         "mode": "text",
         "name": "Paid Work",
         "showlegend": false,
         "text": [
          "251min"
         ],
         "textfont": {
          "color": "white"
         },
         "textposition": "middle center",
         "type": "scatter",
         "x": [
          7.7
         ],
         "y": [
          "USA"
         ]
        },
        {
         "mode": "text",
         "name": "Paid Work",
         "showlegend": false,
         "text": [
          "224min"
         ],
         "textfont": {
          "color": "white"
         },
         "textposition": "middle center",
         "type": "scatter",
         "x": [
          7.7
         ],
         "y": [
          "Germany"
         ]
        },
        {
         "mode": "text",
         "name": "Paid Work",
         "showlegend": false,
         "text": [
          "149min"
         ],
         "textfont": {
          "color": "white"
         },
         "textposition": "middle center",
         "type": "scatter",
         "x": [
          7.7
         ],
         "y": [
          "Italy"
         ]
        }
       ],
       "layout": {
        "barmode": "stack",
        "legend": {
         "itemclick": false,
         "itemdoubleclick": false
        },
        "template": {
         "data": {
          "bar": [
           {
            "error_x": {
             "color": "#2a3f5f"
            },
            "error_y": {
             "color": "#2a3f5f"
            },
            "marker": {
             "line": {
              "color": "#E5ECF6",
              "width": 0.5
             },
             "pattern": {
              "fillmode": "overlay",
              "size": 10,
              "solidity": 0.2
             }
            },
            "type": "bar"
           }
          ],
          "barpolar": [
           {
            "marker": {
             "line": {
              "color": "#E5ECF6",
              "width": 0.5
             },
             "pattern": {
              "fillmode": "overlay",
              "size": 10,
              "solidity": 0.2
             }
            },
            "type": "barpolar"
           }
          ],
          "carpet": [
           {
            "aaxis": {
             "endlinecolor": "#2a3f5f",
             "gridcolor": "white",
             "linecolor": "white",
             "minorgridcolor": "white",
             "startlinecolor": "#2a3f5f"
            },
            "baxis": {
             "endlinecolor": "#2a3f5f",
             "gridcolor": "white",
             "linecolor": "white",
             "minorgridcolor": "white",
             "startlinecolor": "#2a3f5f"
            },
            "type": "carpet"
           }
          ],
          "choropleth": [
           {
            "colorbar": {
             "outlinewidth": 0,
             "ticks": ""
            },
            "type": "choropleth"
           }
          ],
          "contour": [
           {
            "colorbar": {
             "outlinewidth": 0,
             "ticks": ""
            },
            "colorscale": [
             [
              0,
              "#0d0887"
             ],
             [
              0.1111111111111111,
              "#46039f"
             ],
             [
              0.2222222222222222,
              "#7201a8"
             ],
             [
              0.3333333333333333,
              "#9c179e"
             ],
             [
              0.4444444444444444,
              "#bd3786"
             ],
             [
              0.5555555555555556,
              "#d8576b"
             ],
             [
              0.6666666666666666,
              "#ed7953"
             ],
             [
              0.7777777777777778,
              "#fb9f3a"
             ],
             [
              0.8888888888888888,
              "#fdca26"
             ],
             [
              1,
              "#f0f921"
             ]
            ],
            "type": "contour"
           }
          ],
          "contourcarpet": [
           {
            "colorbar": {
             "outlinewidth": 0,
             "ticks": ""
            },
            "type": "contourcarpet"
           }
          ],
          "heatmap": [
           {
            "colorbar": {
             "outlinewidth": 0,
             "ticks": ""
            },
            "colorscale": [
             [
              0,
              "#0d0887"
             ],
             [
              0.1111111111111111,
              "#46039f"
             ],
             [
              0.2222222222222222,
              "#7201a8"
             ],
             [
              0.3333333333333333,
              "#9c179e"
             ],
             [
              0.4444444444444444,
              "#bd3786"
             ],
             [
              0.5555555555555556,
              "#d8576b"
             ],
             [
              0.6666666666666666,
              "#ed7953"
             ],
             [
              0.7777777777777778,
              "#fb9f3a"
             ],
             [
              0.8888888888888888,
              "#fdca26"
             ],
             [
              1,
              "#f0f921"
             ]
            ],
            "type": "heatmap"
           }
          ],
          "heatmapgl": [
           {
            "colorbar": {
             "outlinewidth": 0,
             "ticks": ""
            },
            "colorscale": [
             [
              0,
              "#0d0887"
             ],
             [
              0.1111111111111111,
              "#46039f"
             ],
             [
              0.2222222222222222,
              "#7201a8"
             ],
             [
              0.3333333333333333,
              "#9c179e"
             ],
             [
              0.4444444444444444,
              "#bd3786"
             ],
             [
              0.5555555555555556,
              "#d8576b"
             ],
             [
              0.6666666666666666,
              "#ed7953"
             ],
             [
              0.7777777777777778,
              "#fb9f3a"
             ],
             [
              0.8888888888888888,
              "#fdca26"
             ],
             [
              1,
              "#f0f921"
             ]
            ],
            "type": "heatmapgl"
           }
          ],
          "histogram": [
           {
            "marker": {
             "pattern": {
              "fillmode": "overlay",
              "size": 10,
              "solidity": 0.2
             }
            },
            "type": "histogram"
           }
          ],
          "histogram2d": [
           {
            "colorbar": {
             "outlinewidth": 0,
             "ticks": ""
            },
            "colorscale": [
             [
              0,
              "#0d0887"
             ],
             [
              0.1111111111111111,
              "#46039f"
             ],
             [
              0.2222222222222222,
              "#7201a8"
             ],
             [
              0.3333333333333333,
              "#9c179e"
             ],
             [
              0.4444444444444444,
              "#bd3786"
             ],
             [
              0.5555555555555556,
              "#d8576b"
             ],
             [
              0.6666666666666666,
              "#ed7953"
             ],
             [
              0.7777777777777778,
              "#fb9f3a"
             ],
             [
              0.8888888888888888,
              "#fdca26"
             ],
             [
              1,
              "#f0f921"
             ]
            ],
            "type": "histogram2d"
           }
          ],
          "histogram2dcontour": [
           {
            "colorbar": {
             "outlinewidth": 0,
             "ticks": ""
            },
            "colorscale": [
             [
              0,
              "#0d0887"
             ],
             [
              0.1111111111111111,
              "#46039f"
             ],
             [
              0.2222222222222222,
              "#7201a8"
             ],
             [
              0.3333333333333333,
              "#9c179e"
             ],
             [
              0.4444444444444444,
              "#bd3786"
             ],
             [
              0.5555555555555556,
              "#d8576b"
             ],
             [
              0.6666666666666666,
              "#ed7953"
             ],
             [
              0.7777777777777778,
              "#fb9f3a"
             ],
             [
              0.8888888888888888,
              "#fdca26"
             ],
             [
              1,
              "#f0f921"
             ]
            ],
            "type": "histogram2dcontour"
           }
          ],
          "mesh3d": [
           {
            "colorbar": {
             "outlinewidth": 0,
             "ticks": ""
            },
            "type": "mesh3d"
           }
          ],
          "parcoords": [
           {
            "line": {
             "colorbar": {
              "outlinewidth": 0,
              "ticks": ""
             }
            },
            "type": "parcoords"
           }
          ],
          "pie": [
           {
            "automargin": true,
            "type": "pie"
           }
          ],
          "scatter": [
           {
            "fillpattern": {
             "fillmode": "overlay",
             "size": 10,
             "solidity": 0.2
            },
            "type": "scatter"
           }
          ],
          "scatter3d": [
           {
            "line": {
             "colorbar": {
              "outlinewidth": 0,
              "ticks": ""
             }
            },
            "marker": {
             "colorbar": {
              "outlinewidth": 0,
              "ticks": ""
             }
            },
            "type": "scatter3d"
           }
          ],
          "scattercarpet": [
           {
            "marker": {
             "colorbar": {
              "outlinewidth": 0,
              "ticks": ""
             }
            },
            "type": "scattercarpet"
           }
          ],
          "scattergeo": [
           {
            "marker": {
             "colorbar": {
              "outlinewidth": 0,
              "ticks": ""
             }
            },
            "type": "scattergeo"
           }
          ],
          "scattergl": [
           {
            "marker": {
             "colorbar": {
              "outlinewidth": 0,
              "ticks": ""
             }
            },
            "type": "scattergl"
           }
          ],
          "scattermapbox": [
           {
            "marker": {
             "colorbar": {
              "outlinewidth": 0,
              "ticks": ""
             }
            },
            "type": "scattermapbox"
           }
          ],
          "scatterpolar": [
           {
            "marker": {
             "colorbar": {
              "outlinewidth": 0,
              "ticks": ""
             }
            },
            "type": "scatterpolar"
           }
          ],
          "scatterpolargl": [
           {
            "marker": {
             "colorbar": {
              "outlinewidth": 0,
              "ticks": ""
             }
            },
            "type": "scatterpolargl"
           }
          ],
          "scatterternary": [
           {
            "marker": {
             "colorbar": {
              "outlinewidth": 0,
              "ticks": ""
             }
            },
            "type": "scatterternary"
           }
          ],
          "surface": [
           {
            "colorbar": {
             "outlinewidth": 0,
             "ticks": ""
            },
            "colorscale": [
             [
              0,
              "#0d0887"
             ],
             [
              0.1111111111111111,
              "#46039f"
             ],
             [
              0.2222222222222222,
              "#7201a8"
             ],
             [
              0.3333333333333333,
              "#9c179e"
             ],
             [
              0.4444444444444444,
              "#bd3786"
             ],
             [
              0.5555555555555556,
              "#d8576b"
             ],
             [
              0.6666666666666666,
              "#ed7953"
             ],
             [
              0.7777777777777778,
              "#fb9f3a"
             ],
             [
              0.8888888888888888,
              "#fdca26"
             ],
             [
              1,
              "#f0f921"
             ]
            ],
            "type": "surface"
           }
          ],
          "table": [
           {
            "cells": {
             "fill": {
              "color": "#EBF0F8"
             },
             "line": {
              "color": "white"
             }
            },
            "header": {
             "fill": {
              "color": "#C8D4E3"
             },
             "line": {
              "color": "white"
             }
            },
            "type": "table"
           }
          ]
         },
         "layout": {
          "annotationdefaults": {
           "arrowcolor": "#2a3f5f",
           "arrowhead": 0,
           "arrowwidth": 1
          },
          "autotypenumbers": "strict",
          "coloraxis": {
           "colorbar": {
            "outlinewidth": 0,
            "ticks": ""
           }
          },
          "colorscale": {
           "diverging": [
            [
             0,
             "#8e0152"
            ],
            [
             0.1,
             "#c51b7d"
            ],
            [
             0.2,
             "#de77ae"
            ],
            [
             0.3,
             "#f1b6da"
            ],
            [
             0.4,
             "#fde0ef"
            ],
            [
             0.5,
             "#f7f7f7"
            ],
            [
             0.6,
             "#e6f5d0"
            ],
            [
             0.7,
             "#b8e186"
            ],
            [
             0.8,
             "#7fbc41"
            ],
            [
             0.9,
             "#4d9221"
            ],
            [
             1,
             "#276419"
            ]
           ],
           "sequential": [
            [
             0,
             "#0d0887"
            ],
            [
             0.1111111111111111,
             "#46039f"
            ],
            [
             0.2222222222222222,
             "#7201a8"
            ],
            [
             0.3333333333333333,
             "#9c179e"
            ],
            [
             0.4444444444444444,
             "#bd3786"
            ],
            [
             0.5555555555555556,
             "#d8576b"
            ],
            [
             0.6666666666666666,
             "#ed7953"
            ],
            [
             0.7777777777777778,
             "#fb9f3a"
            ],
            [
             0.8888888888888888,
             "#fdca26"
            ],
            [
             1,
             "#f0f921"
            ]
           ],
           "sequentialminus": [
            [
             0,
             "#0d0887"
            ],
            [
             0.1111111111111111,
             "#46039f"
            ],
            [
             0.2222222222222222,
             "#7201a8"
            ],
            [
             0.3333333333333333,
             "#9c179e"
            ],
            [
             0.4444444444444444,
             "#bd3786"
            ],
            [
             0.5555555555555556,
             "#d8576b"
            ],
            [
             0.6666666666666666,
             "#ed7953"
            ],
            [
             0.7777777777777778,
             "#fb9f3a"
            ],
            [
             0.8888888888888888,
             "#fdca26"
            ],
            [
             1,
             "#f0f921"
            ]
           ]
          },
          "colorway": [
           "#636efa",
           "#EF553B",
           "#00cc96",
           "#ab63fa",
           "#FFA15A",
           "#19d3f3",
           "#FF6692",
           "#B6E880",
           "#FF97FF",
           "#FECB52"
          ],
          "font": {
           "color": "#2a3f5f"
          },
          "geo": {
           "bgcolor": "white",
           "lakecolor": "white",
           "landcolor": "#E5ECF6",
           "showlakes": true,
           "showland": true,
           "subunitcolor": "white"
          },
          "hoverlabel": {
           "align": "left"
          },
          "hovermode": "closest",
          "mapbox": {
           "style": "light"
          },
          "paper_bgcolor": "white",
          "plot_bgcolor": "#E5ECF6",
          "polar": {
           "angularaxis": {
            "gridcolor": "white",
            "linecolor": "white",
            "ticks": ""
           },
           "bgcolor": "#E5ECF6",
           "radialaxis": {
            "gridcolor": "white",
            "linecolor": "white",
            "ticks": ""
           }
          },
          "scene": {
           "xaxis": {
            "backgroundcolor": "#E5ECF6",
            "gridcolor": "white",
            "gridwidth": 2,
            "linecolor": "white",
            "showbackground": true,
            "ticks": "",
            "zerolinecolor": "white"
           },
           "yaxis": {
            "backgroundcolor": "#E5ECF6",
            "gridcolor": "white",
            "gridwidth": 2,
            "linecolor": "white",
            "showbackground": true,
            "ticks": "",
            "zerolinecolor": "white"
           },
           "zaxis": {
            "backgroundcolor": "#E5ECF6",
            "gridcolor": "white",
            "gridwidth": 2,
            "linecolor": "white",
            "showbackground": true,
            "ticks": "",
            "zerolinecolor": "white"
           }
          },
          "shapedefaults": {
           "line": {
            "color": "#2a3f5f"
           }
          },
          "ternary": {
           "aaxis": {
            "gridcolor": "white",
            "linecolor": "white",
            "ticks": ""
           },
           "baxis": {
            "gridcolor": "white",
            "linecolor": "white",
            "ticks": ""
           },
           "bgcolor": "#E5ECF6",
           "caxis": {
            "gridcolor": "white",
            "linecolor": "white",
            "ticks": ""
           }
          },
          "title": {
           "x": 0.05
          },
          "xaxis": {
           "automargin": true,
           "gridcolor": "white",
           "linecolor": "white",
           "ticks": "",
           "title": {
            "standoff": 15
           },
           "zerolinecolor": "white",
           "zerolinewidth": 2
          },
          "yaxis": {
           "automargin": true,
           "gridcolor": "white",
           "linecolor": "white",
           "ticks": "",
           "title": {
            "standoff": 15
           },
           "zerolinecolor": "white",
           "zerolinewidth": 2
          }
         }
        },
        "title": {
         "font": {
          "color": "black",
          "size": 20
         },
         "text": "How People (15-64) Spend Their Time",
         "x": 0.5
        },
        "xaxis": {
         "range": [
          0,
          100
         ],
         "title": {
          "font": {
           "color": "black",
           "size": 13
          },
          "text": "% of Day"
         }
        }
       }
      }
     },
     "metadata": {},
     "output_type": "display_data"
    }
   ],
   "source": [
    "import plotly.graph_objects as go\n",
    "\n",
    "fig = go.Figure()\n",
    "fig.add_trace(go.Bar(\n",
    "    y=[\"Japan\", \"USA\", \"Germany\", \"Italy\"],\n",
    "    x=[(325.711372/1440)*100, (251.137774/1440)*100, (223.83901/1440)*100, (148.894552/1440)*100],\n",
    "    name='Paid Work',\n",
    "    orientation='h',\n",
    "    marker=dict(\n",
    "        color='red',\n",
    "        line=dict(color='red', width=3)\n",
    "    ), legendrank=14\n",
    "))\n",
    "fig.add_trace(go.Bar(\n",
    "    y=[\"Japan\", \"USA\", \"Germany\", \"Italy\"],\n",
    "    x=education,\n",
    "    name='Education',\n",
    "    orientation='h',\n",
    "    marker=dict(\n",
    "        color='orange',\n",
    "        line=dict(color='orange', width=3)\n",
    "    ), legendrank=13\n",
    "))\n",
    "fig.add_trace(go.Bar(\n",
    "    y=[\"Japan\", \"USA\", \"Germany\", \"Italy\"],\n",
    "    x=sleep,\n",
    "    name='Sleep',\n",
    "    orientation='h',\n",
    "    marker=dict(\n",
    "        color='grey',\n",
    "        line=dict(color='grey', width=3)\n",
    "    ), legendrank=12\n",
    "))\n",
    "fig.add_trace(go.Bar(\n",
    "    y=[\"Japan\", \"USA\", \"Germany\", \"Italy\"],\n",
    "    x=other_paid_volunteer,\n",
    "    name='Unpaid/volunteer Work',\n",
    "    orientation='h',\n",
    "    marker=dict(\n",
    "        color='darkgoldenrod',\n",
    "        line=dict(color='darkgoldenrod', width=3)\n",
    "    ), legendrank=11\n",
    "))\n",
    "\n",
    "fig.add_trace(go.Bar(\n",
    "    y=[\"Japan\", \"USA\", \"Germany\", \"Italy\"],\n",
    "    x=care_for_house_hold_members,\n",
    "    name='Care for House Hold Members',\n",
    "    orientation='h',\n",
    "    marker=dict(\n",
    "        color='gold',\n",
    "        line=dict(color='gold', width=3)\n",
    "    ), legendrank=10\n",
    "))\n",
    "fig.add_trace(go.Bar(\n",
    "    y=[\"Japan\", \"USA\", \"Germany\", \"Italy\"],\n",
    "    x=housework,\n",
    "    name='Housework',\n",
    "    orientation='h',\n",
    "    marker=dict(\n",
    "        color='slateblue',\n",
    "        line=dict(color='slateblue', width=3)\n",
    "    ), legendrank=9\n",
    "))\n",
    "fig.add_trace(go.Bar(\n",
    "    y=[\"Japan\", \"USA\", \"Germany\", \"Italy\"],\n",
    "    x=shopping,\n",
    "    name='Shopping',\n",
    "    orientation='h',\n",
    "    marker=dict(\n",
    "        color='darkslateblue',\n",
    "        line=dict(color='darkslateblue', width=3)\n",
    "    ), legendrank=8\n",
    "))\n",
    "fig.add_trace(go.Bar(\n",
    "    y=[\"Japan\", \"USA\", \"Germany\", \"Italy\"],\n",
    "    x=personal_care,\n",
    "    name='Personal Care',\n",
    "    orientation='h',\n",
    "    marker=dict(\n",
    "        color='yellow',\n",
    "        line=dict(color='yellow', width=3)\n",
    "    ), legendrank=7\n",
    "))\n",
    "fig.add_trace(go.Bar(\n",
    "    y=[\"Japan\", \"USA\", \"Germany\", \"Italy\"],\n",
    "    x=eating_drinking,\n",
    "    name='Eating/Drinking',\n",
    "    orientation='h',\n",
    "    marker=dict(\n",
    "        color='green',\n",
    "        line=dict(color='green', width=3)\n",
    "    ), legendrank=6\n",
    "))\n",
    "fig.add_trace(go.Bar(\n",
    "    y=[\"Japan\", \"USA\", \"Germany\", \"Italy\"],\n",
    "    x=tv_radio,\n",
    "    name='TV/radio',\n",
    "    orientation='h',\n",
    "    marker=dict(\n",
    "        color='navy',\n",
    "        line=dict(color='navy', width=3)\n",
    "    ), legendrank=5\n",
    "))\n",
    "fig.add_trace(go.Bar(\n",
    "    y=[\"Japan\", \"USA\", \"Germany\", \"Italy\"],\n",
    "    x=seeing_friends,\n",
    "    name='Seeing Friends',\n",
    "    orientation='h',\n",
    "    marker=dict(\n",
    "        color='darkgray',\n",
    "        line=dict(color='darkgray', width=3)\n",
    "    ), legendrank=4\n",
    "))\n",
    "fig.add_trace(go.Bar(\n",
    "    y=[\"Japan\", \"USA\", \"Germany\", \"Italy\"],\n",
    "    x=sports,\n",
    "    name='Sports',\n",
    "    orientation='h',\n",
    "    marker=dict(\n",
    "        color='black',\n",
    "        line=dict(color='black', width=3)\n",
    "    ), legendrank=3\n",
    "))\n",
    "fig.add_trace(go.Bar(\n",
    "    y=[\"Japan\", \"USA\", \"Germany\", \"Italy\"],\n",
    "    x=attending_events,\n",
    "    name='Attending Events',\n",
    "    orientation='h',\n",
    "    marker=dict(\n",
    "        color='skyblue',\n",
    "        line=dict(color='skyblue', width=3)\n",
    "    ), legendrank=2\n",
    "))\n",
    "fig.add_trace(go.Bar(\n",
    "    y=[\"Japan\", \"USA\", \"Germany\", \"Italy\"],\n",
    "    x=other_leisure,\n",
    "    name='Other Leisure',\n",
    "    orientation='h',\n",
    "    marker=dict(\n",
    "        color='purple',\n",
    "        line=dict(color='purple', width=3)\n",
    "    ), legendrank=1\n",
    "))\n",
    "\n",
    "# Change text color to white\n",
    "\n",
    "fig.add_trace(go.Scatter(\n",
    "    x=[35],\n",
    "    y=['Japan'],\n",
    "    mode=\"text\",\n",
    "    name=\"Sleep\",\n",
    "    text=[\"7hr 22min\"],\n",
    "    textposition=\"middle center\",\n",
    "    showlegend=False\n",
    "))\n",
    "fig.add_trace(go.Scatter(\n",
    "    x=[35],\n",
    "    y=['USA'],\n",
    "    mode=\"text\",\n",
    "    name=\"Sleep\",\n",
    "    text=[\"8hr 48min\"],\n",
    "    textposition=\"middle center\",\n",
    "    showlegend=False\n",
    "))\n",
    "fig.add_trace(go.Scatter(\n",
    "    x=[35],\n",
    "    y=['Germany'],\n",
    "    mode=\"text\",\n",
    "    name=\"Sleep\",\n",
    "    text=[\"8hr 18min\"],\n",
    "    textposition=\"middle center\",\n",
    "    showlegend=False\n",
    "))\n",
    "fig.add_trace(go.Scatter(\n",
    "    x=[35],\n",
    "    y=['Italy'],\n",
    "    mode=\"text\",\n",
    "    name=\"Sleep\",\n",
    "    text=[\"8hr 33min\"],\n",
    "    textposition=\"middle center\",\n",
    "    showlegend=False\n",
    "))\n",
    "fig.update_traces(textfont_color='white')\n",
    "\n",
    "fig.add_trace(go.Scatter(\n",
    "    x=[7.7],\n",
    "    y=['Japan'],\n",
    "    mode=\"text\",\n",
    "    name=\"Paid Work\",\n",
    "    text=[\"326min\"],\n",
    "    textposition=\"middle center\",\n",
    "    showlegend=False\n",
    "))\n",
    "fig.add_trace(go.Scatter(\n",
    "    x=[7.7],\n",
    "    y=['USA'],\n",
    "    mode=\"text\",\n",
    "    name=\"Paid Work\",\n",
    "    text=[\"251min\"],\n",
    "    textposition=\"middle center\",\n",
    "    showlegend=False\n",
    "))\n",
    "fig.add_trace(go.Scatter(\n",
    "    x=[7.7],\n",
    "    y=['Germany'],\n",
    "    mode=\"text\",\n",
    "    name=\"Paid Work\",\n",
    "    text=[\"224min\"],\n",
    "    textposition=\"middle center\",\n",
    "    showlegend=False\n",
    "))\n",
    "fig.add_trace(go.Scatter(\n",
    "    x=[7.7],\n",
    "    y=['Italy'],\n",
    "    mode=\"text\",\n",
    "    name=\"Paid Work\",\n",
    "    text=[\"149min\"],\n",
    "    textposition=\"middle center\",\n",
    "    showlegend=False\n",
    "))\n",
    "fig.update_traces(textfont_color='white')\n",
    "\n",
    "# Add title\n",
    "fig.update_layout(\n",
    "    title_text=\"How People (15-64) Spend Their Time\",\n",
    "    title_x=0.5,\n",
    "    title_font=dict(\n",
    "        size=20,\n",
    "        color=\"black\"\n",
    "    )\n",
    ")\n",
    "\n",
    "# Set x-axis title\n",
    "fig.update_xaxes(title_text=\"% of Day\", title_font=dict(size=13, color=\"black\"))\n",
    "\n",
    "# Set y-axes titles\n",
    "#fig.update_yaxes(title_text=\"Country\", title_font=dict(size=13, color=\"black\"))\n",
    "\n",
    "\n",
    "# set x limit of 100\n",
    "fig.update_layout(xaxis_range=[0, 100])\n",
    "fig.update_layout(barmode='stack')\n",
    "fig.update_layout(legend_itemclick=False)\n",
    "fig.update_layout(legend_itemdoubleclick=False)\n",
    "\n",
    "fig.write_html(\"plotly_time_consume_nonf.html\")\n",
    "fig.show()"
   ]
  },
  {
   "cell_type": "code",
   "execution_count": 20,
   "metadata": {},
   "outputs": [
    {
     "data": {
      "application/vnd.plotly.v1+json": {
       "config": {
        "plotlyServerURL": "https://plot.ly"
       },
       "data": [
        {
         "legendrank": 6,
         "marker": {
          "color": "peru",
          "line": {
           "color": "peru",
           "width": 3
          }
         },
         "name": "Poultry",
         "orientation": "h",
         "textfont": {
          "color": "white"
         },
         "type": "bar",
         "x": [
          22,
          58,
          18,
          20
         ],
         "y": [
          "Japan",
          "USA",
          "Germany",
          "Italy"
         ]
        },
        {
         "legendrank": 5,
         "marker": {
          "color": "firebrick",
          "line": {
           "color": "firebrick",
           "width": 3
          }
         },
         "name": "Beef",
         "orientation": "h",
         "textfont": {
          "color": "white"
         },
         "type": "bar",
         "x": [
          9.7,
          37,
          15,
          16
         ],
         "y": [
          "Japan",
          "USA",
          "Germany",
          "Italy"
         ]
        },
        {
         "legendrank": 4,
         "marker": {
          "color": "darkgray",
          "line": {
           "color": "darkgray",
           "width": 3
          }
         },
         "name": "Other Meats",
         "orientation": "h",
         "textfont": {
          "color": "white"
         },
         "type": "bar",
         "x": [
          0.1,
          0.8,
          0.83,
          1.09
         ],
         "y": [
          "Japan",
          "USA",
          "Germany",
          "Italy"
         ]
        },
        {
         "legendrank": 3,
         "marker": {
          "color": "lightpink",
          "line": {
           "color": "lightpink",
           "width": 3
          }
         },
         "name": "Pork",
         "orientation": "h",
         "textfont": {
          "color": "white"
         },
         "type": "bar",
         "x": [
          22,
          30,
          44,
          33
         ],
         "y": [
          "Japan",
          "USA",
          "Germany",
          "Italy"
         ]
        },
        {
         "legendrank": 2,
         "marker": {
          "color": "purple",
          "line": {
           "color": "purple",
           "width": 3
          }
         },
         "name": "Sheep/goat",
         "orientation": "h",
         "textfont": {
          "color": "white"
         },
         "type": "bar",
         "x": [
          0.15,
          0.6,
          0.97,
          0.77
         ],
         "y": [
          "Japan",
          "USA",
          "Germany",
          "Italy"
         ]
        },
        {
         "legendrank": 1,
         "marker": {
          "color": "steelblue",
          "line": {
           "color": "steelblue",
           "width": 3
          }
         },
         "name": "Seafood",
         "orientation": "h",
         "textfont": {
          "color": "white"
         },
         "type": "bar",
         "x": [
          47,
          22,
          13,
          30
         ],
         "y": [
          "Japan",
          "USA",
          "Germany",
          "Italy"
         ]
        },
        {
         "mode": "text",
         "name": "Poultry",
         "showlegend": false,
         "text": [
          "20"
         ],
         "textfont": {
          "color": "white"
         },
         "textposition": "middle center",
         "type": "scatter",
         "x": [
          10
         ],
         "y": [
          "Italy"
         ]
        },
        {
         "mode": "text",
         "name": "Poultry",
         "showlegend": false,
         "text": [
          "19"
         ],
         "textfont": {
          "color": "white"
         },
         "textposition": "middle center",
         "type": "scatter",
         "x": [
          10
         ],
         "y": [
          "Germany"
         ]
        },
        {
         "mode": "text",
         "name": "Poultry",
         "showlegend": false,
         "text": [
          "58"
         ],
         "textfont": {
          "color": "white"
         },
         "textposition": "middle center",
         "type": "scatter",
         "x": [
          10
         ],
         "y": [
          "USA"
         ]
        },
        {
         "mode": "text",
         "name": "Poultry",
         "showlegend": false,
         "text": [
          "23"
         ],
         "textfont": {
          "color": "white"
         },
         "textposition": "middle center",
         "type": "scatter",
         "x": [
          10
         ],
         "y": [
          "Japan"
         ]
        },
        {
         "mode": "text",
         "name": "Beef",
         "showlegend": false,
         "text": [
          "37"
         ],
         "textfont": {
          "color": "white"
         },
         "textposition": "middle center",
         "type": "scatter",
         "x": [
          77
         ],
         "y": [
          "USA"
         ]
        },
        {
         "mode": "text",
         "name": "Beef",
         "showlegend": false,
         "text": [
          "16"
         ],
         "textfont": {
          "color": "white"
         },
         "textposition": "middle center",
         "type": "scatter",
         "x": [
          26
         ],
         "y": [
          "Italy"
         ]
        },
        {
         "mode": "text",
         "name": "Beef",
         "showlegend": false,
         "text": [
          "15"
         ],
         "textfont": {
          "color": "white"
         },
         "textposition": "middle center",
         "type": "scatter",
         "x": [
          26
         ],
         "y": [
          "Germany"
         ]
        },
        {
         "mode": "text",
         "name": "Beef",
         "showlegend": false,
         "text": [
          "10"
         ],
         "textfont": {
          "color": "white"
         },
         "textposition": "middle center",
         "type": "scatter",
         "x": [
          26
         ],
         "y": [
          "Japan"
         ]
        },
        {
         "mode": "text",
         "name": "Pork",
         "showlegend": false,
         "text": [
          "30"
         ],
         "textfont": {
          "color": "white"
         },
         "textposition": "middle center",
         "type": "scatter",
         "x": [
          110
         ],
         "y": [
          "USA"
         ]
        },
        {
         "mode": "text",
         "name": "Pork",
         "showlegend": false,
         "text": [
          "33"
         ],
         "textfont": {
          "color": "white"
         },
         "textposition": "middle center",
         "type": "scatter",
         "x": [
          45
         ],
         "y": [
          "Italy"
         ]
        },
        {
         "mode": "text",
         "name": "Pork",
         "showlegend": false,
         "text": [
          "44"
         ],
         "textfont": {
          "color": "white"
         },
         "textposition": "middle center",
         "type": "scatter",
         "x": [
          45
         ],
         "y": [
          "Germany"
         ]
        },
        {
         "mode": "text",
         "name": "Pork",
         "showlegend": false,
         "text": [
          "22"
         ],
         "textfont": {
          "color": "white"
         },
         "textposition": "middle center",
         "type": "scatter",
         "x": [
          45
         ],
         "y": [
          "Japan"
         ]
        },
        {
         "mode": "text",
         "name": "Seafood",
         "showlegend": false,
         "text": [
          "30"
         ],
         "textfont": {
          "color": "white"
         },
         "textposition": "middle center",
         "type": "scatter",
         "x": [
          85
         ],
         "y": [
          "Italy"
         ]
        },
        {
         "mode": "text",
         "name": "Seafood",
         "showlegend": false,
         "text": [
          "13"
         ],
         "textfont": {
          "color": "white"
         },
         "textposition": "middle center",
         "type": "scatter",
         "x": [
          85
         ],
         "y": [
          "Germany"
         ]
        },
        {
         "mode": "text",
         "name": "Seafood",
         "showlegend": false,
         "text": [
          "47"
         ],
         "textfont": {
          "color": "white"
         },
         "textposition": "middle center",
         "type": "scatter",
         "x": [
          85
         ],
         "y": [
          "Japan"
         ]
        },
        {
         "mode": "text",
         "name": "Seafood",
         "showlegend": false,
         "text": [
          "22"
         ],
         "textfont": {
          "color": "white"
         },
         "textposition": "middle center",
         "type": "scatter",
         "x": [
          138
         ],
         "y": [
          "USA"
         ]
        }
       ],
       "layout": {
        "barmode": "stack",
        "legend": {
         "itemclick": false,
         "itemdoubleclick": false
        },
        "template": {
         "data": {
          "bar": [
           {
            "error_x": {
             "color": "#2a3f5f"
            },
            "error_y": {
             "color": "#2a3f5f"
            },
            "marker": {
             "line": {
              "color": "#E5ECF6",
              "width": 0.5
             },
             "pattern": {
              "fillmode": "overlay",
              "size": 10,
              "solidity": 0.2
             }
            },
            "type": "bar"
           }
          ],
          "barpolar": [
           {
            "marker": {
             "line": {
              "color": "#E5ECF6",
              "width": 0.5
             },
             "pattern": {
              "fillmode": "overlay",
              "size": 10,
              "solidity": 0.2
             }
            },
            "type": "barpolar"
           }
          ],
          "carpet": [
           {
            "aaxis": {
             "endlinecolor": "#2a3f5f",
             "gridcolor": "white",
             "linecolor": "white",
             "minorgridcolor": "white",
             "startlinecolor": "#2a3f5f"
            },
            "baxis": {
             "endlinecolor": "#2a3f5f",
             "gridcolor": "white",
             "linecolor": "white",
             "minorgridcolor": "white",
             "startlinecolor": "#2a3f5f"
            },
            "type": "carpet"
           }
          ],
          "choropleth": [
           {
            "colorbar": {
             "outlinewidth": 0,
             "ticks": ""
            },
            "type": "choropleth"
           }
          ],
          "contour": [
           {
            "colorbar": {
             "outlinewidth": 0,
             "ticks": ""
            },
            "colorscale": [
             [
              0,
              "#0d0887"
             ],
             [
              0.1111111111111111,
              "#46039f"
             ],
             [
              0.2222222222222222,
              "#7201a8"
             ],
             [
              0.3333333333333333,
              "#9c179e"
             ],
             [
              0.4444444444444444,
              "#bd3786"
             ],
             [
              0.5555555555555556,
              "#d8576b"
             ],
             [
              0.6666666666666666,
              "#ed7953"
             ],
             [
              0.7777777777777778,
              "#fb9f3a"
             ],
             [
              0.8888888888888888,
              "#fdca26"
             ],
             [
              1,
              "#f0f921"
             ]
            ],
            "type": "contour"
           }
          ],
          "contourcarpet": [
           {
            "colorbar": {
             "outlinewidth": 0,
             "ticks": ""
            },
            "type": "contourcarpet"
           }
          ],
          "heatmap": [
           {
            "colorbar": {
             "outlinewidth": 0,
             "ticks": ""
            },
            "colorscale": [
             [
              0,
              "#0d0887"
             ],
             [
              0.1111111111111111,
              "#46039f"
             ],
             [
              0.2222222222222222,
              "#7201a8"
             ],
             [
              0.3333333333333333,
              "#9c179e"
             ],
             [
              0.4444444444444444,
              "#bd3786"
             ],
             [
              0.5555555555555556,
              "#d8576b"
             ],
             [
              0.6666666666666666,
              "#ed7953"
             ],
             [
              0.7777777777777778,
              "#fb9f3a"
             ],
             [
              0.8888888888888888,
              "#fdca26"
             ],
             [
              1,
              "#f0f921"
             ]
            ],
            "type": "heatmap"
           }
          ],
          "heatmapgl": [
           {
            "colorbar": {
             "outlinewidth": 0,
             "ticks": ""
            },
            "colorscale": [
             [
              0,
              "#0d0887"
             ],
             [
              0.1111111111111111,
              "#46039f"
             ],
             [
              0.2222222222222222,
              "#7201a8"
             ],
             [
              0.3333333333333333,
              "#9c179e"
             ],
             [
              0.4444444444444444,
              "#bd3786"
             ],
             [
              0.5555555555555556,
              "#d8576b"
             ],
             [
              0.6666666666666666,
              "#ed7953"
             ],
             [
              0.7777777777777778,
              "#fb9f3a"
             ],
             [
              0.8888888888888888,
              "#fdca26"
             ],
             [
              1,
              "#f0f921"
             ]
            ],
            "type": "heatmapgl"
           }
          ],
          "histogram": [
           {
            "marker": {
             "pattern": {
              "fillmode": "overlay",
              "size": 10,
              "solidity": 0.2
             }
            },
            "type": "histogram"
           }
          ],
          "histogram2d": [
           {
            "colorbar": {
             "outlinewidth": 0,
             "ticks": ""
            },
            "colorscale": [
             [
              0,
              "#0d0887"
             ],
             [
              0.1111111111111111,
              "#46039f"
             ],
             [
              0.2222222222222222,
              "#7201a8"
             ],
             [
              0.3333333333333333,
              "#9c179e"
             ],
             [
              0.4444444444444444,
              "#bd3786"
             ],
             [
              0.5555555555555556,
              "#d8576b"
             ],
             [
              0.6666666666666666,
              "#ed7953"
             ],
             [
              0.7777777777777778,
              "#fb9f3a"
             ],
             [
              0.8888888888888888,
              "#fdca26"
             ],
             [
              1,
              "#f0f921"
             ]
            ],
            "type": "histogram2d"
           }
          ],
          "histogram2dcontour": [
           {
            "colorbar": {
             "outlinewidth": 0,
             "ticks": ""
            },
            "colorscale": [
             [
              0,
              "#0d0887"
             ],
             [
              0.1111111111111111,
              "#46039f"
             ],
             [
              0.2222222222222222,
              "#7201a8"
             ],
             [
              0.3333333333333333,
              "#9c179e"
             ],
             [
              0.4444444444444444,
              "#bd3786"
             ],
             [
              0.5555555555555556,
              "#d8576b"
             ],
             [
              0.6666666666666666,
              "#ed7953"
             ],
             [
              0.7777777777777778,
              "#fb9f3a"
             ],
             [
              0.8888888888888888,
              "#fdca26"
             ],
             [
              1,
              "#f0f921"
             ]
            ],
            "type": "histogram2dcontour"
           }
          ],
          "mesh3d": [
           {
            "colorbar": {
             "outlinewidth": 0,
             "ticks": ""
            },
            "type": "mesh3d"
           }
          ],
          "parcoords": [
           {
            "line": {
             "colorbar": {
              "outlinewidth": 0,
              "ticks": ""
             }
            },
            "type": "parcoords"
           }
          ],
          "pie": [
           {
            "automargin": true,
            "type": "pie"
           }
          ],
          "scatter": [
           {
            "fillpattern": {
             "fillmode": "overlay",
             "size": 10,
             "solidity": 0.2
            },
            "type": "scatter"
           }
          ],
          "scatter3d": [
           {
            "line": {
             "colorbar": {
              "outlinewidth": 0,
              "ticks": ""
             }
            },
            "marker": {
             "colorbar": {
              "outlinewidth": 0,
              "ticks": ""
             }
            },
            "type": "scatter3d"
           }
          ],
          "scattercarpet": [
           {
            "marker": {
             "colorbar": {
              "outlinewidth": 0,
              "ticks": ""
             }
            },
            "type": "scattercarpet"
           }
          ],
          "scattergeo": [
           {
            "marker": {
             "colorbar": {
              "outlinewidth": 0,
              "ticks": ""
             }
            },
            "type": "scattergeo"
           }
          ],
          "scattergl": [
           {
            "marker": {
             "colorbar": {
              "outlinewidth": 0,
              "ticks": ""
             }
            },
            "type": "scattergl"
           }
          ],
          "scattermapbox": [
           {
            "marker": {
             "colorbar": {
              "outlinewidth": 0,
              "ticks": ""
             }
            },
            "type": "scattermapbox"
           }
          ],
          "scatterpolar": [
           {
            "marker": {
             "colorbar": {
              "outlinewidth": 0,
              "ticks": ""
             }
            },
            "type": "scatterpolar"
           }
          ],
          "scatterpolargl": [
           {
            "marker": {
             "colorbar": {
              "outlinewidth": 0,
              "ticks": ""
             }
            },
            "type": "scatterpolargl"
           }
          ],
          "scatterternary": [
           {
            "marker": {
             "colorbar": {
              "outlinewidth": 0,
              "ticks": ""
             }
            },
            "type": "scatterternary"
           }
          ],
          "surface": [
           {
            "colorbar": {
             "outlinewidth": 0,
             "ticks": ""
            },
            "colorscale": [
             [
              0,
              "#0d0887"
             ],
             [
              0.1111111111111111,
              "#46039f"
             ],
             [
              0.2222222222222222,
              "#7201a8"
             ],
             [
              0.3333333333333333,
              "#9c179e"
             ],
             [
              0.4444444444444444,
              "#bd3786"
             ],
             [
              0.5555555555555556,
              "#d8576b"
             ],
             [
              0.6666666666666666,
              "#ed7953"
             ],
             [
              0.7777777777777778,
              "#fb9f3a"
             ],
             [
              0.8888888888888888,
              "#fdca26"
             ],
             [
              1,
              "#f0f921"
             ]
            ],
            "type": "surface"
           }
          ],
          "table": [
           {
            "cells": {
             "fill": {
              "color": "#EBF0F8"
             },
             "line": {
              "color": "white"
             }
            },
            "header": {
             "fill": {
              "color": "#C8D4E3"
             },
             "line": {
              "color": "white"
             }
            },
            "type": "table"
           }
          ]
         },
         "layout": {
          "annotationdefaults": {
           "arrowcolor": "#2a3f5f",
           "arrowhead": 0,
           "arrowwidth": 1
          },
          "autotypenumbers": "strict",
          "coloraxis": {
           "colorbar": {
            "outlinewidth": 0,
            "ticks": ""
           }
          },
          "colorscale": {
           "diverging": [
            [
             0,
             "#8e0152"
            ],
            [
             0.1,
             "#c51b7d"
            ],
            [
             0.2,
             "#de77ae"
            ],
            [
             0.3,
             "#f1b6da"
            ],
            [
             0.4,
             "#fde0ef"
            ],
            [
             0.5,
             "#f7f7f7"
            ],
            [
             0.6,
             "#e6f5d0"
            ],
            [
             0.7,
             "#b8e186"
            ],
            [
             0.8,
             "#7fbc41"
            ],
            [
             0.9,
             "#4d9221"
            ],
            [
             1,
             "#276419"
            ]
           ],
           "sequential": [
            [
             0,
             "#0d0887"
            ],
            [
             0.1111111111111111,
             "#46039f"
            ],
            [
             0.2222222222222222,
             "#7201a8"
            ],
            [
             0.3333333333333333,
             "#9c179e"
            ],
            [
             0.4444444444444444,
             "#bd3786"
            ],
            [
             0.5555555555555556,
             "#d8576b"
            ],
            [
             0.6666666666666666,
             "#ed7953"
            ],
            [
             0.7777777777777778,
             "#fb9f3a"
            ],
            [
             0.8888888888888888,
             "#fdca26"
            ],
            [
             1,
             "#f0f921"
            ]
           ],
           "sequentialminus": [
            [
             0,
             "#0d0887"
            ],
            [
             0.1111111111111111,
             "#46039f"
            ],
            [
             0.2222222222222222,
             "#7201a8"
            ],
            [
             0.3333333333333333,
             "#9c179e"
            ],
            [
             0.4444444444444444,
             "#bd3786"
            ],
            [
             0.5555555555555556,
             "#d8576b"
            ],
            [
             0.6666666666666666,
             "#ed7953"
            ],
            [
             0.7777777777777778,
             "#fb9f3a"
            ],
            [
             0.8888888888888888,
             "#fdca26"
            ],
            [
             1,
             "#f0f921"
            ]
           ]
          },
          "colorway": [
           "#636efa",
           "#EF553B",
           "#00cc96",
           "#ab63fa",
           "#FFA15A",
           "#19d3f3",
           "#FF6692",
           "#B6E880",
           "#FF97FF",
           "#FECB52"
          ],
          "font": {
           "color": "#2a3f5f"
          },
          "geo": {
           "bgcolor": "white",
           "lakecolor": "white",
           "landcolor": "#E5ECF6",
           "showlakes": true,
           "showland": true,
           "subunitcolor": "white"
          },
          "hoverlabel": {
           "align": "left"
          },
          "hovermode": "closest",
          "mapbox": {
           "style": "light"
          },
          "paper_bgcolor": "white",
          "plot_bgcolor": "#E5ECF6",
          "polar": {
           "angularaxis": {
            "gridcolor": "white",
            "linecolor": "white",
            "ticks": ""
           },
           "bgcolor": "#E5ECF6",
           "radialaxis": {
            "gridcolor": "white",
            "linecolor": "white",
            "ticks": ""
           }
          },
          "scene": {
           "xaxis": {
            "backgroundcolor": "#E5ECF6",
            "gridcolor": "white",
            "gridwidth": 2,
            "linecolor": "white",
            "showbackground": true,
            "ticks": "",
            "zerolinecolor": "white"
           },
           "yaxis": {
            "backgroundcolor": "#E5ECF6",
            "gridcolor": "white",
            "gridwidth": 2,
            "linecolor": "white",
            "showbackground": true,
            "ticks": "",
            "zerolinecolor": "white"
           },
           "zaxis": {
            "backgroundcolor": "#E5ECF6",
            "gridcolor": "white",
            "gridwidth": 2,
            "linecolor": "white",
            "showbackground": true,
            "ticks": "",
            "zerolinecolor": "white"
           }
          },
          "shapedefaults": {
           "line": {
            "color": "#2a3f5f"
           }
          },
          "ternary": {
           "aaxis": {
            "gridcolor": "white",
            "linecolor": "white",
            "ticks": ""
           },
           "baxis": {
            "gridcolor": "white",
            "linecolor": "white",
            "ticks": ""
           },
           "bgcolor": "#E5ECF6",
           "caxis": {
            "gridcolor": "white",
            "linecolor": "white",
            "ticks": ""
           }
          },
          "title": {
           "x": 0.05
          },
          "xaxis": {
           "automargin": true,
           "gridcolor": "white",
           "linecolor": "white",
           "ticks": "",
           "title": {
            "standoff": 15
           },
           "zerolinecolor": "white",
           "zerolinewidth": 2
          },
          "yaxis": {
           "automargin": true,
           "gridcolor": "white",
           "linecolor": "white",
           "ticks": "",
           "title": {
            "standoff": 15
           },
           "zerolinecolor": "white",
           "zerolinewidth": 2
          }
         }
        },
        "title": {
         "font": {
          "color": "black",
          "size": 20
         },
         "text": "Per Capita Meat Consumption by Type - 2020",
         "x": 0.5
        },
        "xaxis": {
         "range": [
          0,
          149
         ],
         "title": {
          "font": {
           "color": "black",
           "size": 13
          },
          "text": "kg per year"
         }
        }
       }
      }
     },
     "metadata": {},
     "output_type": "display_data"
    }
   ],
   "source": [
    "import plotly.graph_objects as go\n",
    "\n",
    "fig = go.Figure()\n",
    "fig.add_trace(go.Bar(\n",
    "    y=[\"Japan\", \"USA\", \"Germany\", \"Italy\"],\n",
    "    x=[22,58,18,20],\n",
    "    name='Poultry',\n",
    "    orientation='h',\n",
    "    marker=dict(\n",
    "        color='peru',\n",
    "        line=dict(color='peru', width=3)\n",
    "    ), legendrank=6\n",
    "))\n",
    "fig.add_trace(go.Bar(\n",
    "    y=[\"Japan\", \"USA\", \"Germany\", \"Italy\"],\n",
    "    x=[9.7,37,15,16],\n",
    "    name='Beef',\n",
    "    orientation='h',\n",
    "    marker=dict(\n",
    "        color='firebrick',\n",
    "        line=dict(color='firebrick', width=3)\n",
    "    ), legendrank=5\n",
    "))\n",
    "fig.add_trace(go.Bar(\n",
    "    y=[\"Japan\", \"USA\", \"Germany\", \"Italy\"],\n",
    "    x=[0.1,0.8,0.83,1.09],\n",
    "    name='Other Meats',\n",
    "    orientation='h',\n",
    "    marker=dict(\n",
    "        color='darkgray',\n",
    "        line=dict(color='darkgray', width=3)\n",
    "    ), legendrank=4\n",
    "))\n",
    "fig.add_trace(go.Bar(\n",
    "    y=[\"Japan\", \"USA\", \"Germany\", \"Italy\"],\n",
    "    x=[22,30,44,33],\n",
    "    name='Pork',\n",
    "    orientation='h',\n",
    "    marker=dict(\n",
    "        color='lightpink',\n",
    "        line=dict(color='lightpink', width=3)\n",
    "    ), legendrank=3\n",
    "))\n",
    "\n",
    "fig.add_trace(go.Bar(\n",
    "    y=[\"Japan\", \"USA\", \"Germany\", \"Italy\"],\n",
    "    x=[0.15,0.6,0.97,0.77],\n",
    "    name='Sheep/goat',\n",
    "    orientation='h',\n",
    "    marker=dict(\n",
    "        color='purple',\n",
    "        line=dict(color='purple', width=3)\n",
    "    ), legendrank=2\n",
    "))\n",
    "fig.add_trace(go.Bar(\n",
    "    y=[\"Japan\", \"USA\", \"Germany\", \"Italy\"],\n",
    "    x=[47,22,13,30],\n",
    "    name='Seafood',\n",
    "    orientation='h',\n",
    "    marker=dict(\n",
    "        color='steelblue',\n",
    "        line=dict(color='steelblue', width=3)\n",
    "    ), legendrank=1\n",
    "))\n",
    "fig.add_trace(go.Scatter(\n",
    "    x=[10],\n",
    "    y=['Italy'],\n",
    "    mode=\"text\",\n",
    "    name=\"Poultry\",\n",
    "    text=[\"20\"],\n",
    "    textposition=\"middle center\",\n",
    "    showlegend=False\n",
    "))\n",
    "fig.add_trace(go.Scatter(\n",
    "    x=[10],\n",
    "    y=['Germany'],\n",
    "    mode=\"text\",\n",
    "    name=\"Poultry\",\n",
    "    text=[\"19\"],\n",
    "    textposition=\"middle center\",\n",
    "    showlegend=False\n",
    "))\n",
    "fig.add_trace(go.Scatter(\n",
    "    x=[10],\n",
    "    y=['USA'],\n",
    "    mode=\"text\",\n",
    "    name=\"Poultry\",\n",
    "    text=[\"58\"],\n",
    "    textposition=\"middle center\",\n",
    "    showlegend=False\n",
    "))\n",
    "fig.add_trace(go.Scatter(\n",
    "    x=[10],\n",
    "    y=['Japan'],\n",
    "    mode=\"text\",\n",
    "    name=\"Poultry\",\n",
    "    text=[\"23\"],\n",
    "    textposition=\"middle center\",\n",
    "    showlegend=False\n",
    "))\n",
    "fig.add_trace(go.Scatter(\n",
    "    x=[77],\n",
    "    y=['USA'],\n",
    "    mode=\"text\",\n",
    "    name=\"Beef\",\n",
    "    text=[\"37\"],\n",
    "    textposition=\"middle center\",\n",
    "    showlegend=False\n",
    "))\n",
    "fig.add_trace(go.Scatter(\n",
    "    x=[26],\n",
    "    y=['Italy'],\n",
    "    mode=\"text\",\n",
    "    name=\"Beef\",\n",
    "    text=[\"16\"],\n",
    "    textposition=\"middle center\",\n",
    "    showlegend=False\n",
    "))\n",
    "fig.add_trace(go.Scatter(\n",
    "    x=[26],\n",
    "    y=['Germany'],\n",
    "    mode=\"text\",\n",
    "    name=\"Beef\",\n",
    "    text=[\"15\"],\n",
    "    textposition=\"middle center\",\n",
    "    showlegend=False\n",
    "))\n",
    "fig.add_trace(go.Scatter(\n",
    "    x=[26],\n",
    "    y=['Japan'],\n",
    "    mode=\"text\",\n",
    "    name=\"Beef\",\n",
    "    text=[\"10\"],\n",
    "    textposition=\"middle center\",\n",
    "    showlegend=False\n",
    "))\n",
    "fig.add_trace(go.Scatter(\n",
    "    x=[110],\n",
    "    y=['USA'],\n",
    "    mode=\"text\",\n",
    "    name=\"Pork\",\n",
    "    text=[\"30\"],\n",
    "    textposition=\"middle center\",\n",
    "    showlegend=False\n",
    "))\n",
    "fig.add_trace(go.Scatter(\n",
    "    x=[45],\n",
    "    y=['Italy'],\n",
    "    mode=\"text\",\n",
    "    name=\"Pork\",\n",
    "    text=[\"33\"],\n",
    "    textposition=\"middle center\",\n",
    "    showlegend=False\n",
    "))\n",
    "fig.add_trace(go.Scatter(\n",
    "    x=[45],\n",
    "    y=['Germany'],\n",
    "    mode=\"text\",\n",
    "    name=\"Pork\",\n",
    "    text=[\"44\"],\n",
    "    textposition=\"middle center\",\n",
    "    showlegend=False\n",
    "))\n",
    "fig.add_trace(go.Scatter(\n",
    "    x=[45],\n",
    "    y=['Japan'],\n",
    "    mode=\"text\",\n",
    "    name=\"Pork\",\n",
    "    text=[\"22\"],\n",
    "    textposition=\"middle center\",\n",
    "    showlegend=False\n",
    "))\n",
    "fig.add_trace(go.Scatter(\n",
    "    x=[85],\n",
    "    y=['Italy'],\n",
    "    mode=\"text\",\n",
    "    name=\"Seafood\",\n",
    "    text=[\"30\"],\n",
    "    textposition=\"middle center\",\n",
    "    showlegend=False\n",
    "))\n",
    "fig.add_trace(go.Scatter(\n",
    "    x=[85],\n",
    "    y=['Germany'],\n",
    "    mode=\"text\",\n",
    "    name=\"Seafood\",\n",
    "    text=[\"13\"],\n",
    "    textposition=\"middle center\",\n",
    "    showlegend=False\n",
    "))\n",
    "fig.add_trace(go.Scatter(\n",
    "    x=[85],\n",
    "    y=['Japan'],\n",
    "    mode=\"text\",\n",
    "    name=\"Seafood\",\n",
    "    text=[\"47\"],\n",
    "    textposition=\"middle center\",\n",
    "    showlegend=False\n",
    "))\n",
    "fig.add_trace(go.Scatter(\n",
    "    x=[138],\n",
    "    y=['USA'],\n",
    "    mode=\"text\",\n",
    "    name=\"Seafood\",\n",
    "    text=[\"22\"],\n",
    "    textposition=\"middle center\",\n",
    "    showlegend=False\n",
    "))\n",
    "fig.update_traces(textfont_color='white')\n",
    "\n",
    "\n",
    "# Add title\n",
    "fig.update_layout(\n",
    "    title_text=\"Per Capita Meat Consumption by Type - 2020\",\n",
    "    title_x=0.5,\n",
    "    title_font=dict(\n",
    "        size=20,\n",
    "        color=\"black\"\n",
    "    )\n",
    ")\n",
    "\n",
    "# Set x-axis title\n",
    "fig.update_xaxes(title_text=\"kg per year\", title_font=dict(size=13, color=\"black\"))\n",
    "\n",
    "# Set y-axes titles\n",
    "#fig.update_yaxes(title_text=\"Country\", title_font=dict(size=13, color=\"black\"))\n",
    "\n",
    "\n",
    "# set x limit of 100\n",
    "fig.update_layout(xaxis_range=[0, 149])\n",
    "fig.update_layout(barmode='stack')\n",
    "fig.update_layout(legend_itemclick=False)\n",
    "fig.update_layout(legend_itemdoubleclick=False)\n",
    "#fig.update_layout(legend_traceorder=\"reversed\")\n",
    "\n",
    "\n",
    "fig.write_html(\"plotly_time_consume_meattttttf.html\")\n",
    "fig.show()"
   ]
  },
  {
   "cell_type": "code",
   "execution_count": null,
   "metadata": {},
   "outputs": [],
   "source": []
  }
 ],
 "metadata": {
  "kernelspec": {
   "display_name": "base",
   "language": "python",
   "name": "python3"
  },
  "language_info": {
   "codemirror_mode": {
    "name": "ipython",
    "version": 3
   },
   "file_extension": ".py",
   "mimetype": "text/x-python",
   "name": "python",
   "nbconvert_exporter": "python",
   "pygments_lexer": "ipython3",
   "version": "3.8.5"
  },
  "orig_nbformat": 4
 },
 "nbformat": 4,
 "nbformat_minor": 2
}
